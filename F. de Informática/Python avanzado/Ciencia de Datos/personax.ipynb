{
 "metadata": {
  "language_info": {
   "codemirror_mode": {
    "name": "ipython",
    "version": 3
   },
   "file_extension": ".py",
   "mimetype": "text/x-python",
   "name": "python",
   "nbconvert_exporter": "python",
   "pygments_lexer": "ipython3",
   "version": "3.9.2"
  },
  "orig_nbformat": 2,
  "kernelspec": {
   "name": "python3",
   "display_name": "Python 3.9.2 64-bit ('3.9')"
  },
  "metadata": {
   "interpreter": {
    "hash": "7812ea015bdcee6f23a998adcdd2ef97c151c0c241b7b7070987d9313e41299d"
   }
  },
  "interpreter": {
   "hash": "7812ea015bdcee6f23a998adcdd2ef97c151c0c241b7b7070987d9313e41299d"
  }
 },
 "nbformat": 4,
 "nbformat_minor": 2,
 "cells": [
  {
   "cell_type": "code",
   "execution_count": 21,
   "metadata": {},
   "outputs": [],
   "source": [
    "import pandas as pd"
   ]
  },
  {
   "cell_type": "code",
   "execution_count": 22,
   "metadata": {},
   "outputs": [],
   "source": [
    "personas = pd.read_csv('/Users/ferminiturriaga/Desktop/UCEMA/2021/F_de_Informatica/F. de Informática/Python avanzado/Ciencia de Datos/Data/personas_2011.csv', sep = ';')"
   ]
  },
  {
   "cell_type": "code",
   "execution_count": 23,
   "metadata": {},
   "outputs": [
    {
     "output_type": "execute_result",
     "data": {
      "text/plain": [
       "       persona_id  anio  sexo_id  edad  maximo_grado_academico_id  \\\n",
       "0               1  2011        2    36                         -1   \n",
       "1               5  2011        1    48                          1   \n",
       "2               7  2011        2    30                          5   \n",
       "3              10  2011        2    51                          5   \n",
       "4              11  2011        1    39                          2   \n",
       "...           ...   ...      ...   ...                        ...   \n",
       "68547      185558  2011        2    -1                         -1   \n",
       "68548      185574  2011        2    55                         -1   \n",
       "68549      185583  2011        2    18                          7   \n",
       "68550      185590  2011        2    -1                          8   \n",
       "68551      185608  2011        1    27                          5   \n",
       "\n",
       "       disciplina_maximo_grado_academico_id  disciplina_titulo_grado_id  \\\n",
       "0                                        -1                          -1   \n",
       "1                                       255                         255   \n",
       "2                                       111                         111   \n",
       "3                                       248                         248   \n",
       "4                                       223                         203   \n",
       "...                                     ...                         ...   \n",
       "68547                                    -1                          -1   \n",
       "68548                                    -1                          -1   \n",
       "68549                                    -1                          -1   \n",
       "68550                                    -1                          -1   \n",
       "68551                                   227                         227   \n",
       "\n",
       "       disciplina_experticia_id  tipo_personal_id  producciones_ult_anio  ...  \\\n",
       "0                            64                 4                      0  ...   \n",
       "1                           255                 3                      5  ...   \n",
       "2                           158                 1                     11  ...   \n",
       "3                            29                 4                      0  ...   \n",
       "4                           280                 3                      8  ...   \n",
       "...                         ...               ...                    ...  ...   \n",
       "68547                       263                 2                     -1  ...   \n",
       "68548                        38                 2                      0  ...   \n",
       "68549                       216                 2                     -1  ...   \n",
       "68550                       250                 2                     -1  ...   \n",
       "68551                       252                 2                     -1  ...   \n",
       "\n",
       "       producciones_ult_3_anios  producciones_ult_4_anios  \\\n",
       "0                             1                         1   \n",
       "1                            13                        17   \n",
       "2                            13                        13   \n",
       "3                             3                         4   \n",
       "4                            15                        18   \n",
       "...                         ...                       ...   \n",
       "68547                        -1                        -1   \n",
       "68548                         0                         0   \n",
       "68549                        -1                        -1   \n",
       "68550                        -1                        -1   \n",
       "68551                        -1                        -1   \n",
       "\n",
       "       institucion_trabajo_id  seniority_level categoria_conicet_id  \\\n",
       "0                        4488                                  -1.0   \n",
       "1                         118              B                    2.0   \n",
       "2                         587              D                    NaN   \n",
       "3                          44                                  -1.0   \n",
       "4                        7310              C                   -1.0   \n",
       "...                       ...              ...                  ...   \n",
       "68547                     221                                   NaN   \n",
       "68548                   10971                                   NaN   \n",
       "68549                   10624                                   NaN   \n",
       "68550                     396                                   NaN   \n",
       "68551                    3765                                   NaN   \n",
       "\n",
       "       categoria_incentivos  max_dedicacion_horaria_docente_id  \\\n",
       "0                      -1.0                                3.0   \n",
       "1                       3.0                                3.0   \n",
       "2                       NaN                                NaN   \n",
       "3                       4.0                                3.0   \n",
       "4                       4.0                                3.0   \n",
       "...                     ...                                ...   \n",
       "68547                   NaN                                NaN   \n",
       "68548                   NaN                                NaN   \n",
       "68549                   NaN                                NaN   \n",
       "68550                   NaN                                NaN   \n",
       "68551                   NaN                                NaN   \n",
       "\n",
       "       institucion_cargo_docente_id  clase_cargo_docente_id  \\\n",
       "0                             116.0                    22.0   \n",
       "1                             118.0                    19.0   \n",
       "2                               NaN                     NaN   \n",
       "3                             124.0                    21.0   \n",
       "4                            6627.0                    20.0   \n",
       "...                             ...                     ...   \n",
       "68547                           NaN                     NaN   \n",
       "68548                           NaN                     NaN   \n",
       "68549                           NaN                     NaN   \n",
       "68550                           NaN                     NaN   \n",
       "68551                           NaN                     NaN   \n",
       "\n",
       "       tipo_condicion_docente_id  \n",
       "0                            1.0  \n",
       "1                            2.0  \n",
       "2                            NaN  \n",
       "3                            1.0  \n",
       "4                            1.0  \n",
       "...                          ...  \n",
       "68547                        NaN  \n",
       "68548                        NaN  \n",
       "68549                        NaN  \n",
       "68550                        NaN  \n",
       "68551                        NaN  \n",
       "\n",
       "[68552 rows x 21 columns]"
      ],
      "text/html": "<div>\n<style scoped>\n    .dataframe tbody tr th:only-of-type {\n        vertical-align: middle;\n    }\n\n    .dataframe tbody tr th {\n        vertical-align: top;\n    }\n\n    .dataframe thead th {\n        text-align: right;\n    }\n</style>\n<table border=\"1\" class=\"dataframe\">\n  <thead>\n    <tr style=\"text-align: right;\">\n      <th></th>\n      <th>persona_id</th>\n      <th>anio</th>\n      <th>sexo_id</th>\n      <th>edad</th>\n      <th>maximo_grado_academico_id</th>\n      <th>disciplina_maximo_grado_academico_id</th>\n      <th>disciplina_titulo_grado_id</th>\n      <th>disciplina_experticia_id</th>\n      <th>tipo_personal_id</th>\n      <th>producciones_ult_anio</th>\n      <th>...</th>\n      <th>producciones_ult_3_anios</th>\n      <th>producciones_ult_4_anios</th>\n      <th>institucion_trabajo_id</th>\n      <th>seniority_level</th>\n      <th>categoria_conicet_id</th>\n      <th>categoria_incentivos</th>\n      <th>max_dedicacion_horaria_docente_id</th>\n      <th>institucion_cargo_docente_id</th>\n      <th>clase_cargo_docente_id</th>\n      <th>tipo_condicion_docente_id</th>\n    </tr>\n  </thead>\n  <tbody>\n    <tr>\n      <th>0</th>\n      <td>1</td>\n      <td>2011</td>\n      <td>2</td>\n      <td>36</td>\n      <td>-1</td>\n      <td>-1</td>\n      <td>-1</td>\n      <td>64</td>\n      <td>4</td>\n      <td>0</td>\n      <td>...</td>\n      <td>1</td>\n      <td>1</td>\n      <td>4488</td>\n      <td></td>\n      <td>-1.0</td>\n      <td>-1.0</td>\n      <td>3.0</td>\n      <td>116.0</td>\n      <td>22.0</td>\n      <td>1.0</td>\n    </tr>\n    <tr>\n      <th>1</th>\n      <td>5</td>\n      <td>2011</td>\n      <td>1</td>\n      <td>48</td>\n      <td>1</td>\n      <td>255</td>\n      <td>255</td>\n      <td>255</td>\n      <td>3</td>\n      <td>5</td>\n      <td>...</td>\n      <td>13</td>\n      <td>17</td>\n      <td>118</td>\n      <td>B</td>\n      <td>2.0</td>\n      <td>3.0</td>\n      <td>3.0</td>\n      <td>118.0</td>\n      <td>19.0</td>\n      <td>2.0</td>\n    </tr>\n    <tr>\n      <th>2</th>\n      <td>7</td>\n      <td>2011</td>\n      <td>2</td>\n      <td>30</td>\n      <td>5</td>\n      <td>111</td>\n      <td>111</td>\n      <td>158</td>\n      <td>1</td>\n      <td>11</td>\n      <td>...</td>\n      <td>13</td>\n      <td>13</td>\n      <td>587</td>\n      <td>D</td>\n      <td>NaN</td>\n      <td>NaN</td>\n      <td>NaN</td>\n      <td>NaN</td>\n      <td>NaN</td>\n      <td>NaN</td>\n    </tr>\n    <tr>\n      <th>3</th>\n      <td>10</td>\n      <td>2011</td>\n      <td>2</td>\n      <td>51</td>\n      <td>5</td>\n      <td>248</td>\n      <td>248</td>\n      <td>29</td>\n      <td>4</td>\n      <td>0</td>\n      <td>...</td>\n      <td>3</td>\n      <td>4</td>\n      <td>44</td>\n      <td></td>\n      <td>-1.0</td>\n      <td>4.0</td>\n      <td>3.0</td>\n      <td>124.0</td>\n      <td>21.0</td>\n      <td>1.0</td>\n    </tr>\n    <tr>\n      <th>4</th>\n      <td>11</td>\n      <td>2011</td>\n      <td>1</td>\n      <td>39</td>\n      <td>2</td>\n      <td>223</td>\n      <td>203</td>\n      <td>280</td>\n      <td>3</td>\n      <td>8</td>\n      <td>...</td>\n      <td>15</td>\n      <td>18</td>\n      <td>7310</td>\n      <td>C</td>\n      <td>-1.0</td>\n      <td>4.0</td>\n      <td>3.0</td>\n      <td>6627.0</td>\n      <td>20.0</td>\n      <td>1.0</td>\n    </tr>\n    <tr>\n      <th>...</th>\n      <td>...</td>\n      <td>...</td>\n      <td>...</td>\n      <td>...</td>\n      <td>...</td>\n      <td>...</td>\n      <td>...</td>\n      <td>...</td>\n      <td>...</td>\n      <td>...</td>\n      <td>...</td>\n      <td>...</td>\n      <td>...</td>\n      <td>...</td>\n      <td>...</td>\n      <td>...</td>\n      <td>...</td>\n      <td>...</td>\n      <td>...</td>\n      <td>...</td>\n      <td>...</td>\n    </tr>\n    <tr>\n      <th>68547</th>\n      <td>185558</td>\n      <td>2011</td>\n      <td>2</td>\n      <td>-1</td>\n      <td>-1</td>\n      <td>-1</td>\n      <td>-1</td>\n      <td>263</td>\n      <td>2</td>\n      <td>-1</td>\n      <td>...</td>\n      <td>-1</td>\n      <td>-1</td>\n      <td>221</td>\n      <td></td>\n      <td>NaN</td>\n      <td>NaN</td>\n      <td>NaN</td>\n      <td>NaN</td>\n      <td>NaN</td>\n      <td>NaN</td>\n    </tr>\n    <tr>\n      <th>68548</th>\n      <td>185574</td>\n      <td>2011</td>\n      <td>2</td>\n      <td>55</td>\n      <td>-1</td>\n      <td>-1</td>\n      <td>-1</td>\n      <td>38</td>\n      <td>2</td>\n      <td>0</td>\n      <td>...</td>\n      <td>0</td>\n      <td>0</td>\n      <td>10971</td>\n      <td></td>\n      <td>NaN</td>\n      <td>NaN</td>\n      <td>NaN</td>\n      <td>NaN</td>\n      <td>NaN</td>\n      <td>NaN</td>\n    </tr>\n    <tr>\n      <th>68549</th>\n      <td>185583</td>\n      <td>2011</td>\n      <td>2</td>\n      <td>18</td>\n      <td>7</td>\n      <td>-1</td>\n      <td>-1</td>\n      <td>216</td>\n      <td>2</td>\n      <td>-1</td>\n      <td>...</td>\n      <td>-1</td>\n      <td>-1</td>\n      <td>10624</td>\n      <td></td>\n      <td>NaN</td>\n      <td>NaN</td>\n      <td>NaN</td>\n      <td>NaN</td>\n      <td>NaN</td>\n      <td>NaN</td>\n    </tr>\n    <tr>\n      <th>68550</th>\n      <td>185590</td>\n      <td>2011</td>\n      <td>2</td>\n      <td>-1</td>\n      <td>8</td>\n      <td>-1</td>\n      <td>-1</td>\n      <td>250</td>\n      <td>2</td>\n      <td>-1</td>\n      <td>...</td>\n      <td>-1</td>\n      <td>-1</td>\n      <td>396</td>\n      <td></td>\n      <td>NaN</td>\n      <td>NaN</td>\n      <td>NaN</td>\n      <td>NaN</td>\n      <td>NaN</td>\n      <td>NaN</td>\n    </tr>\n    <tr>\n      <th>68551</th>\n      <td>185608</td>\n      <td>2011</td>\n      <td>1</td>\n      <td>27</td>\n      <td>5</td>\n      <td>227</td>\n      <td>227</td>\n      <td>252</td>\n      <td>2</td>\n      <td>-1</td>\n      <td>...</td>\n      <td>-1</td>\n      <td>-1</td>\n      <td>3765</td>\n      <td></td>\n      <td>NaN</td>\n      <td>NaN</td>\n      <td>NaN</td>\n      <td>NaN</td>\n      <td>NaN</td>\n      <td>NaN</td>\n    </tr>\n  </tbody>\n</table>\n<p>68552 rows × 21 columns</p>\n</div>"
     },
     "metadata": {},
     "execution_count": 23
    }
   ],
   "source": [
    "personas"
   ]
  },
  {
   "cell_type": "code",
   "execution_count": 24,
   "metadata": {},
   "outputs": [
    {
     "output_type": "execute_result",
     "data": {
      "text/plain": [
       "   persona_id  anio  sexo_id  edad  maximo_grado_academico_id  \\\n",
       "0           1  2011        2    36                         -1   \n",
       "1           5  2011        1    48                          1   \n",
       "2           7  2011        2    30                          5   \n",
       "3          10  2011        2    51                          5   \n",
       "4          11  2011        1    39                          2   \n",
       "5          12  2011        2    48                          1   \n",
       "6          13  2011        2    41                          5   \n",
       "7          15  2011        1    46                          1   \n",
       "8          17  2011        2    53                          2   \n",
       "9          19  2011        2    52                          1   \n",
       "\n",
       "   disciplina_maximo_grado_academico_id  disciplina_titulo_grado_id  \\\n",
       "0                                    -1                          -1   \n",
       "1                                   255                         255   \n",
       "2                                   111                         111   \n",
       "3                                   248                         248   \n",
       "4                                   223                         203   \n",
       "5                                    58                          57   \n",
       "6                                   192                         192   \n",
       "7                                   258                         258   \n",
       "8                                   281                         199   \n",
       "9                                   255                         255   \n",
       "\n",
       "   disciplina_experticia_id  tipo_personal_id  producciones_ult_anio  ...  \\\n",
       "0                        64                 4                      0  ...   \n",
       "1                       255                 3                      5  ...   \n",
       "2                       158                 1                     11  ...   \n",
       "3                        29                 4                      0  ...   \n",
       "4                       280                 3                      8  ...   \n",
       "5                        55                 1                      1  ...   \n",
       "6                       281                 4                      0  ...   \n",
       "7                        49                 3                      4  ...   \n",
       "8                       151                 3                      0  ...   \n",
       "9                       255                 3                      0  ...   \n",
       "\n",
       "   producciones_ult_3_anios  producciones_ult_4_anios  institucion_trabajo_id  \\\n",
       "0                         1                         1                    4488   \n",
       "1                        13                        17                     118   \n",
       "2                        13                        13                     587   \n",
       "3                         3                         4                      44   \n",
       "4                        15                        18                    7310   \n",
       "5                         2                         3                     578   \n",
       "6                         0                         0                     517   \n",
       "7                         9                        12                     444   \n",
       "8                         1                         2                     691   \n",
       "9                         1                         2                     122   \n",
       "\n",
       "   seniority_level categoria_conicet_id  categoria_incentivos  \\\n",
       "0                                  -1.0                  -1.0   \n",
       "1              B                    2.0                   3.0   \n",
       "2              D                    NaN                   NaN   \n",
       "3                                  -1.0                   4.0   \n",
       "4              C                   -1.0                   4.0   \n",
       "5              B                   -1.0                   3.0   \n",
       "6                                  -1.0                  -1.0   \n",
       "7              B                   -1.0                   3.0   \n",
       "8              C                   -1.0                   4.0   \n",
       "9              A                    3.0                   1.0   \n",
       "\n",
       "   max_dedicacion_horaria_docente_id  institucion_cargo_docente_id  \\\n",
       "0                                3.0                         116.0   \n",
       "1                                3.0                         118.0   \n",
       "2                                NaN                           NaN   \n",
       "3                                3.0                         124.0   \n",
       "4                                3.0                        6627.0   \n",
       "5                                1.0                         578.0   \n",
       "6                                3.0                         517.0   \n",
       "7                                1.0                         444.0   \n",
       "8                                3.0                         192.0   \n",
       "9                                1.0                        4009.0   \n",
       "\n",
       "   clase_cargo_docente_id  tipo_condicion_docente_id  \n",
       "0                    22.0                        1.0  \n",
       "1                    19.0                        2.0  \n",
       "2                     NaN                        NaN  \n",
       "3                    21.0                        1.0  \n",
       "4                    20.0                        1.0  \n",
       "5                    19.0                        1.0  \n",
       "6                    22.0                        1.0  \n",
       "7                    21.0                        1.0  \n",
       "8                    62.0                        3.0  \n",
       "9                    18.0                        1.0  \n",
       "\n",
       "[10 rows x 21 columns]"
      ],
      "text/html": "<div>\n<style scoped>\n    .dataframe tbody tr th:only-of-type {\n        vertical-align: middle;\n    }\n\n    .dataframe tbody tr th {\n        vertical-align: top;\n    }\n\n    .dataframe thead th {\n        text-align: right;\n    }\n</style>\n<table border=\"1\" class=\"dataframe\">\n  <thead>\n    <tr style=\"text-align: right;\">\n      <th></th>\n      <th>persona_id</th>\n      <th>anio</th>\n      <th>sexo_id</th>\n      <th>edad</th>\n      <th>maximo_grado_academico_id</th>\n      <th>disciplina_maximo_grado_academico_id</th>\n      <th>disciplina_titulo_grado_id</th>\n      <th>disciplina_experticia_id</th>\n      <th>tipo_personal_id</th>\n      <th>producciones_ult_anio</th>\n      <th>...</th>\n      <th>producciones_ult_3_anios</th>\n      <th>producciones_ult_4_anios</th>\n      <th>institucion_trabajo_id</th>\n      <th>seniority_level</th>\n      <th>categoria_conicet_id</th>\n      <th>categoria_incentivos</th>\n      <th>max_dedicacion_horaria_docente_id</th>\n      <th>institucion_cargo_docente_id</th>\n      <th>clase_cargo_docente_id</th>\n      <th>tipo_condicion_docente_id</th>\n    </tr>\n  </thead>\n  <tbody>\n    <tr>\n      <th>0</th>\n      <td>1</td>\n      <td>2011</td>\n      <td>2</td>\n      <td>36</td>\n      <td>-1</td>\n      <td>-1</td>\n      <td>-1</td>\n      <td>64</td>\n      <td>4</td>\n      <td>0</td>\n      <td>...</td>\n      <td>1</td>\n      <td>1</td>\n      <td>4488</td>\n      <td></td>\n      <td>-1.0</td>\n      <td>-1.0</td>\n      <td>3.0</td>\n      <td>116.0</td>\n      <td>22.0</td>\n      <td>1.0</td>\n    </tr>\n    <tr>\n      <th>1</th>\n      <td>5</td>\n      <td>2011</td>\n      <td>1</td>\n      <td>48</td>\n      <td>1</td>\n      <td>255</td>\n      <td>255</td>\n      <td>255</td>\n      <td>3</td>\n      <td>5</td>\n      <td>...</td>\n      <td>13</td>\n      <td>17</td>\n      <td>118</td>\n      <td>B</td>\n      <td>2.0</td>\n      <td>3.0</td>\n      <td>3.0</td>\n      <td>118.0</td>\n      <td>19.0</td>\n      <td>2.0</td>\n    </tr>\n    <tr>\n      <th>2</th>\n      <td>7</td>\n      <td>2011</td>\n      <td>2</td>\n      <td>30</td>\n      <td>5</td>\n      <td>111</td>\n      <td>111</td>\n      <td>158</td>\n      <td>1</td>\n      <td>11</td>\n      <td>...</td>\n      <td>13</td>\n      <td>13</td>\n      <td>587</td>\n      <td>D</td>\n      <td>NaN</td>\n      <td>NaN</td>\n      <td>NaN</td>\n      <td>NaN</td>\n      <td>NaN</td>\n      <td>NaN</td>\n    </tr>\n    <tr>\n      <th>3</th>\n      <td>10</td>\n      <td>2011</td>\n      <td>2</td>\n      <td>51</td>\n      <td>5</td>\n      <td>248</td>\n      <td>248</td>\n      <td>29</td>\n      <td>4</td>\n      <td>0</td>\n      <td>...</td>\n      <td>3</td>\n      <td>4</td>\n      <td>44</td>\n      <td></td>\n      <td>-1.0</td>\n      <td>4.0</td>\n      <td>3.0</td>\n      <td>124.0</td>\n      <td>21.0</td>\n      <td>1.0</td>\n    </tr>\n    <tr>\n      <th>4</th>\n      <td>11</td>\n      <td>2011</td>\n      <td>1</td>\n      <td>39</td>\n      <td>2</td>\n      <td>223</td>\n      <td>203</td>\n      <td>280</td>\n      <td>3</td>\n      <td>8</td>\n      <td>...</td>\n      <td>15</td>\n      <td>18</td>\n      <td>7310</td>\n      <td>C</td>\n      <td>-1.0</td>\n      <td>4.0</td>\n      <td>3.0</td>\n      <td>6627.0</td>\n      <td>20.0</td>\n      <td>1.0</td>\n    </tr>\n    <tr>\n      <th>5</th>\n      <td>12</td>\n      <td>2011</td>\n      <td>2</td>\n      <td>48</td>\n      <td>1</td>\n      <td>58</td>\n      <td>57</td>\n      <td>55</td>\n      <td>1</td>\n      <td>1</td>\n      <td>...</td>\n      <td>2</td>\n      <td>3</td>\n      <td>578</td>\n      <td>B</td>\n      <td>-1.0</td>\n      <td>3.0</td>\n      <td>1.0</td>\n      <td>578.0</td>\n      <td>19.0</td>\n      <td>1.0</td>\n    </tr>\n    <tr>\n      <th>6</th>\n      <td>13</td>\n      <td>2011</td>\n      <td>2</td>\n      <td>41</td>\n      <td>5</td>\n      <td>192</td>\n      <td>192</td>\n      <td>281</td>\n      <td>4</td>\n      <td>0</td>\n      <td>...</td>\n      <td>0</td>\n      <td>0</td>\n      <td>517</td>\n      <td></td>\n      <td>-1.0</td>\n      <td>-1.0</td>\n      <td>3.0</td>\n      <td>517.0</td>\n      <td>22.0</td>\n      <td>1.0</td>\n    </tr>\n    <tr>\n      <th>7</th>\n      <td>15</td>\n      <td>2011</td>\n      <td>1</td>\n      <td>46</td>\n      <td>1</td>\n      <td>258</td>\n      <td>258</td>\n      <td>49</td>\n      <td>3</td>\n      <td>4</td>\n      <td>...</td>\n      <td>9</td>\n      <td>12</td>\n      <td>444</td>\n      <td>B</td>\n      <td>-1.0</td>\n      <td>3.0</td>\n      <td>1.0</td>\n      <td>444.0</td>\n      <td>21.0</td>\n      <td>1.0</td>\n    </tr>\n    <tr>\n      <th>8</th>\n      <td>17</td>\n      <td>2011</td>\n      <td>2</td>\n      <td>53</td>\n      <td>2</td>\n      <td>281</td>\n      <td>199</td>\n      <td>151</td>\n      <td>3</td>\n      <td>0</td>\n      <td>...</td>\n      <td>1</td>\n      <td>2</td>\n      <td>691</td>\n      <td>C</td>\n      <td>-1.0</td>\n      <td>4.0</td>\n      <td>3.0</td>\n      <td>192.0</td>\n      <td>62.0</td>\n      <td>3.0</td>\n    </tr>\n    <tr>\n      <th>9</th>\n      <td>19</td>\n      <td>2011</td>\n      <td>2</td>\n      <td>52</td>\n      <td>1</td>\n      <td>255</td>\n      <td>255</td>\n      <td>255</td>\n      <td>3</td>\n      <td>0</td>\n      <td>...</td>\n      <td>1</td>\n      <td>2</td>\n      <td>122</td>\n      <td>A</td>\n      <td>3.0</td>\n      <td>1.0</td>\n      <td>1.0</td>\n      <td>4009.0</td>\n      <td>18.0</td>\n      <td>1.0</td>\n    </tr>\n  </tbody>\n</table>\n<p>10 rows × 21 columns</p>\n</div>"
     },
     "metadata": {},
     "execution_count": 24
    }
   ],
   "source": [
    "personas.head(10)"
   ]
  },
  {
   "cell_type": "code",
   "execution_count": 25,
   "metadata": {},
   "outputs": [
    {
     "output_type": "execute_result",
     "data": {
      "text/plain": [
       "    categoria_conicet_id  categoria_conicet_descripcion\n",
       "0                     -1         No pertenece a Conicet\n",
       "1                      1         Investigador asistente\n",
       "2                      2           Investigador adjunto\n",
       "3                      3     Investigador independiente\n",
       "4                      4         Investigador principal\n",
       "5                      5          Investigador superior\n",
       "6                      6               Becario doctoral\n",
       "7                      7           Becario postdoctoral\n",
       "8                      8              Personal de apoyo\n",
       "9                      9                    Gestión CyT\n",
       "10                    10                        Pasante\n",
       "11                    11          Otro personal Conicet\n",
       "12                    12   Investigador correspondiente\n",
       "13                    13  Investigador superior emérito"
      ],
      "text/html": "<div>\n<style scoped>\n    .dataframe tbody tr th:only-of-type {\n        vertical-align: middle;\n    }\n\n    .dataframe tbody tr th {\n        vertical-align: top;\n    }\n\n    .dataframe thead th {\n        text-align: right;\n    }\n</style>\n<table border=\"1\" class=\"dataframe\">\n  <thead>\n    <tr style=\"text-align: right;\">\n      <th></th>\n      <th>categoria_conicet_id</th>\n      <th>categoria_conicet_descripcion</th>\n    </tr>\n  </thead>\n  <tbody>\n    <tr>\n      <th>0</th>\n      <td>-1</td>\n      <td>No pertenece a Conicet</td>\n    </tr>\n    <tr>\n      <th>1</th>\n      <td>1</td>\n      <td>Investigador asistente</td>\n    </tr>\n    <tr>\n      <th>2</th>\n      <td>2</td>\n      <td>Investigador adjunto</td>\n    </tr>\n    <tr>\n      <th>3</th>\n      <td>3</td>\n      <td>Investigador independiente</td>\n    </tr>\n    <tr>\n      <th>4</th>\n      <td>4</td>\n      <td>Investigador principal</td>\n    </tr>\n    <tr>\n      <th>5</th>\n      <td>5</td>\n      <td>Investigador superior</td>\n    </tr>\n    <tr>\n      <th>6</th>\n      <td>6</td>\n      <td>Becario doctoral</td>\n    </tr>\n    <tr>\n      <th>7</th>\n      <td>7</td>\n      <td>Becario postdoctoral</td>\n    </tr>\n    <tr>\n      <th>8</th>\n      <td>8</td>\n      <td>Personal de apoyo</td>\n    </tr>\n    <tr>\n      <th>9</th>\n      <td>9</td>\n      <td>Gestión CyT</td>\n    </tr>\n    <tr>\n      <th>10</th>\n      <td>10</td>\n      <td>Pasante</td>\n    </tr>\n    <tr>\n      <th>11</th>\n      <td>11</td>\n      <td>Otro personal Conicet</td>\n    </tr>\n    <tr>\n      <th>12</th>\n      <td>12</td>\n      <td>Investigador correspondiente</td>\n    </tr>\n    <tr>\n      <th>13</th>\n      <td>13</td>\n      <td>Investigador superior emérito</td>\n    </tr>\n  </tbody>\n</table>\n</div>"
     },
     "metadata": {},
     "execution_count": 25
    }
   ],
   "source": [
    "conicet = pd.read_csv(\"/Users/ferminiturriaga/Desktop/UCEMA/2021/F_de_Informatica/F. de Informática/Python avanzado/Ciencia de Datos/Data/ref_categoria_conicet.csv\", sep=\";\")\n",
    "len(conicet)\n",
    "conicet"
   ]
  },
  {
   "cell_type": "code",
   "execution_count": 26,
   "metadata": {},
   "outputs": [],
   "source": [
    "personas = personas.rename(columns = {\"clase_cargo_docente_id\": \"clase_cargo_id\"})\n",
    "personas = personas.rename(columns = {\"disciplina_titulo_grado_id\": \"disciplina_id\"})\n",
    "personas = personas.rename(columns = {\"disciplina_maximo_grado_academico_id\": \"grado_academico_id\"})\n",
    "personas = personas.rename(columns = {\"max_dedicacion_horaria_docente_id\": \"tipo_dedicacion_horaria_semanal_id\"})\n"
   ]
  },
  {
   "cell_type": "code",
   "execution_count": 27,
   "metadata": {},
   "outputs": [],
   "source": [
    "personas_full = pd.read_csv('/Users/ferminiturriaga/Desktop/UCEMA/2021/F_de_Informatica/F. de Informática/Python avanzado/Ciencia de Datos/Data/personas_full.csv')"
   ]
  },
  {
   "cell_type": "code",
   "execution_count": 28,
   "metadata": {},
   "outputs": [
    {
     "output_type": "execute_result",
     "data": {
      "text/plain": [
       "       persona_id  anio  sexo_id  edad  grado_academico_id  \\\n",
       "0               1  2011        2    36                  -1   \n",
       "1               7  2011        2    30                   5   \n",
       "2              10  2011        2    51                   5   \n",
       "3              12  2011        2    48                   1   \n",
       "4              13  2011        2    41                   5   \n",
       "...           ...   ...      ...   ...                 ...   \n",
       "68547      185439  2011        1    53                   5   \n",
       "68548      185455  2011        1    -1                  -1   \n",
       "68549      185513  2011        1    24                  -1   \n",
       "68550      185515  2011        1    21                   7   \n",
       "68551      185608  2011        1    27                   5   \n",
       "\n",
       "       disciplina_maximo_grado_academico_id  disciplina_id  \\\n",
       "0                                        -1             -1   \n",
       "1                                       111            111   \n",
       "2                                       248            248   \n",
       "3                                        58             57   \n",
       "4                                       192            192   \n",
       "...                                     ...            ...   \n",
       "68547                                   106            106   \n",
       "68548                                    -1             -1   \n",
       "68549                                    -1             -1   \n",
       "68550                                    -1             -1   \n",
       "68551                                   227            227   \n",
       "\n",
       "       disciplina_experticia_id  tipo_personal_id  producciones_ult_anio  ...  \\\n",
       "0                            64                 4                      0  ...   \n",
       "1                           158                 1                     11  ...   \n",
       "2                            29                 4                      0  ...   \n",
       "3                            55                 1                      1  ...   \n",
       "4                           281                 4                      0  ...   \n",
       "...                         ...               ...                    ...  ...   \n",
       "68547                       250                 2                     -1  ...   \n",
       "68548                        47                 2                     -1  ...   \n",
       "68549                       147                 4                     -1  ...   \n",
       "68550                       282                 2                     -1  ...   \n",
       "68551                       252                 2                     -1  ...   \n",
       "\n",
       "       producciones_ult_4_anios  institucion_trabajo_id  seniority_level  \\\n",
       "0                             1                    4488                    \n",
       "1                            13                     587              D     \n",
       "2                             4                      44                    \n",
       "3                             3                     578              B     \n",
       "4                             0                     517                    \n",
       "...                         ...                     ...              ...   \n",
       "68547                        -1                    8312                    \n",
       "68548                        -1                     398                    \n",
       "68549                        -1                   11088                    \n",
       "68550                        -1                    1735                    \n",
       "68551                        -1                    3765                    \n",
       "\n",
       "       categoria_conicet_id categoria_incentivos  \\\n",
       "0                      -1.0                 -1.0   \n",
       "1                       NaN                  NaN   \n",
       "2                      -1.0                  4.0   \n",
       "3                      -1.0                  3.0   \n",
       "4                      -1.0                 -1.0   \n",
       "...                     ...                  ...   \n",
       "68547                   NaN                  NaN   \n",
       "68548                   NaN                  NaN   \n",
       "68549                  -1.0                 -1.0   \n",
       "68550                   NaN                  NaN   \n",
       "68551                   NaN                  NaN   \n",
       "\n",
       "       tipo_dedicacion_horaria_semanal_id  institucion_cargo_docente_id  \\\n",
       "0                                     3.0                         116.0   \n",
       "1                                     NaN                           NaN   \n",
       "2                                     3.0                         124.0   \n",
       "3                                     1.0                         578.0   \n",
       "4                                     3.0                         517.0   \n",
       "...                                   ...                           ...   \n",
       "68547                                 NaN                           NaN   \n",
       "68548                                 NaN                           NaN   \n",
       "68549                                 3.0                         192.0   \n",
       "68550                                 NaN                           NaN   \n",
       "68551                                 NaN                           NaN   \n",
       "\n",
       "       clase_cargo_docente_id  tipo_condicion_docente_id  sexo_descripcion  \n",
       "0                        22.0                        1.0         MASCULINO  \n",
       "1                         NaN                        NaN         MASCULINO  \n",
       "2                        21.0                        1.0         MASCULINO  \n",
       "3                        19.0                        1.0         MASCULINO  \n",
       "4                        22.0                        1.0         MASCULINO  \n",
       "...                       ...                        ...               ...  \n",
       "68547                     NaN                        NaN          FEMENINO  \n",
       "68548                     NaN                        NaN          FEMENINO  \n",
       "68549                    22.0                        1.0          FEMENINO  \n",
       "68550                     NaN                        NaN          FEMENINO  \n",
       "68551                     NaN                        NaN          FEMENINO  \n",
       "\n",
       "[68552 rows x 22 columns]"
      ],
      "text/html": "<div>\n<style scoped>\n    .dataframe tbody tr th:only-of-type {\n        vertical-align: middle;\n    }\n\n    .dataframe tbody tr th {\n        vertical-align: top;\n    }\n\n    .dataframe thead th {\n        text-align: right;\n    }\n</style>\n<table border=\"1\" class=\"dataframe\">\n  <thead>\n    <tr style=\"text-align: right;\">\n      <th></th>\n      <th>persona_id</th>\n      <th>anio</th>\n      <th>sexo_id</th>\n      <th>edad</th>\n      <th>grado_academico_id</th>\n      <th>disciplina_maximo_grado_academico_id</th>\n      <th>disciplina_id</th>\n      <th>disciplina_experticia_id</th>\n      <th>tipo_personal_id</th>\n      <th>producciones_ult_anio</th>\n      <th>...</th>\n      <th>producciones_ult_4_anios</th>\n      <th>institucion_trabajo_id</th>\n      <th>seniority_level</th>\n      <th>categoria_conicet_id</th>\n      <th>categoria_incentivos</th>\n      <th>tipo_dedicacion_horaria_semanal_id</th>\n      <th>institucion_cargo_docente_id</th>\n      <th>clase_cargo_docente_id</th>\n      <th>tipo_condicion_docente_id</th>\n      <th>sexo_descripcion</th>\n    </tr>\n  </thead>\n  <tbody>\n    <tr>\n      <th>0</th>\n      <td>1</td>\n      <td>2011</td>\n      <td>2</td>\n      <td>36</td>\n      <td>-1</td>\n      <td>-1</td>\n      <td>-1</td>\n      <td>64</td>\n      <td>4</td>\n      <td>0</td>\n      <td>...</td>\n      <td>1</td>\n      <td>4488</td>\n      <td></td>\n      <td>-1.0</td>\n      <td>-1.0</td>\n      <td>3.0</td>\n      <td>116.0</td>\n      <td>22.0</td>\n      <td>1.0</td>\n      <td>MASCULINO</td>\n    </tr>\n    <tr>\n      <th>1</th>\n      <td>7</td>\n      <td>2011</td>\n      <td>2</td>\n      <td>30</td>\n      <td>5</td>\n      <td>111</td>\n      <td>111</td>\n      <td>158</td>\n      <td>1</td>\n      <td>11</td>\n      <td>...</td>\n      <td>13</td>\n      <td>587</td>\n      <td>D</td>\n      <td>NaN</td>\n      <td>NaN</td>\n      <td>NaN</td>\n      <td>NaN</td>\n      <td>NaN</td>\n      <td>NaN</td>\n      <td>MASCULINO</td>\n    </tr>\n    <tr>\n      <th>2</th>\n      <td>10</td>\n      <td>2011</td>\n      <td>2</td>\n      <td>51</td>\n      <td>5</td>\n      <td>248</td>\n      <td>248</td>\n      <td>29</td>\n      <td>4</td>\n      <td>0</td>\n      <td>...</td>\n      <td>4</td>\n      <td>44</td>\n      <td></td>\n      <td>-1.0</td>\n      <td>4.0</td>\n      <td>3.0</td>\n      <td>124.0</td>\n      <td>21.0</td>\n      <td>1.0</td>\n      <td>MASCULINO</td>\n    </tr>\n    <tr>\n      <th>3</th>\n      <td>12</td>\n      <td>2011</td>\n      <td>2</td>\n      <td>48</td>\n      <td>1</td>\n      <td>58</td>\n      <td>57</td>\n      <td>55</td>\n      <td>1</td>\n      <td>1</td>\n      <td>...</td>\n      <td>3</td>\n      <td>578</td>\n      <td>B</td>\n      <td>-1.0</td>\n      <td>3.0</td>\n      <td>1.0</td>\n      <td>578.0</td>\n      <td>19.0</td>\n      <td>1.0</td>\n      <td>MASCULINO</td>\n    </tr>\n    <tr>\n      <th>4</th>\n      <td>13</td>\n      <td>2011</td>\n      <td>2</td>\n      <td>41</td>\n      <td>5</td>\n      <td>192</td>\n      <td>192</td>\n      <td>281</td>\n      <td>4</td>\n      <td>0</td>\n      <td>...</td>\n      <td>0</td>\n      <td>517</td>\n      <td></td>\n      <td>-1.0</td>\n      <td>-1.0</td>\n      <td>3.0</td>\n      <td>517.0</td>\n      <td>22.0</td>\n      <td>1.0</td>\n      <td>MASCULINO</td>\n    </tr>\n    <tr>\n      <th>...</th>\n      <td>...</td>\n      <td>...</td>\n      <td>...</td>\n      <td>...</td>\n      <td>...</td>\n      <td>...</td>\n      <td>...</td>\n      <td>...</td>\n      <td>...</td>\n      <td>...</td>\n      <td>...</td>\n      <td>...</td>\n      <td>...</td>\n      <td>...</td>\n      <td>...</td>\n      <td>...</td>\n      <td>...</td>\n      <td>...</td>\n      <td>...</td>\n      <td>...</td>\n      <td>...</td>\n    </tr>\n    <tr>\n      <th>68547</th>\n      <td>185439</td>\n      <td>2011</td>\n      <td>1</td>\n      <td>53</td>\n      <td>5</td>\n      <td>106</td>\n      <td>106</td>\n      <td>250</td>\n      <td>2</td>\n      <td>-1</td>\n      <td>...</td>\n      <td>-1</td>\n      <td>8312</td>\n      <td></td>\n      <td>NaN</td>\n      <td>NaN</td>\n      <td>NaN</td>\n      <td>NaN</td>\n      <td>NaN</td>\n      <td>NaN</td>\n      <td>FEMENINO</td>\n    </tr>\n    <tr>\n      <th>68548</th>\n      <td>185455</td>\n      <td>2011</td>\n      <td>1</td>\n      <td>-1</td>\n      <td>-1</td>\n      <td>-1</td>\n      <td>-1</td>\n      <td>47</td>\n      <td>2</td>\n      <td>-1</td>\n      <td>...</td>\n      <td>-1</td>\n      <td>398</td>\n      <td></td>\n      <td>NaN</td>\n      <td>NaN</td>\n      <td>NaN</td>\n      <td>NaN</td>\n      <td>NaN</td>\n      <td>NaN</td>\n      <td>FEMENINO</td>\n    </tr>\n    <tr>\n      <th>68549</th>\n      <td>185513</td>\n      <td>2011</td>\n      <td>1</td>\n      <td>24</td>\n      <td>-1</td>\n      <td>-1</td>\n      <td>-1</td>\n      <td>147</td>\n      <td>4</td>\n      <td>-1</td>\n      <td>...</td>\n      <td>-1</td>\n      <td>11088</td>\n      <td></td>\n      <td>-1.0</td>\n      <td>-1.0</td>\n      <td>3.0</td>\n      <td>192.0</td>\n      <td>22.0</td>\n      <td>1.0</td>\n      <td>FEMENINO</td>\n    </tr>\n    <tr>\n      <th>68550</th>\n      <td>185515</td>\n      <td>2011</td>\n      <td>1</td>\n      <td>21</td>\n      <td>7</td>\n      <td>-1</td>\n      <td>-1</td>\n      <td>282</td>\n      <td>2</td>\n      <td>-1</td>\n      <td>...</td>\n      <td>-1</td>\n      <td>1735</td>\n      <td></td>\n      <td>NaN</td>\n      <td>NaN</td>\n      <td>NaN</td>\n      <td>NaN</td>\n      <td>NaN</td>\n      <td>NaN</td>\n      <td>FEMENINO</td>\n    </tr>\n    <tr>\n      <th>68551</th>\n      <td>185608</td>\n      <td>2011</td>\n      <td>1</td>\n      <td>27</td>\n      <td>5</td>\n      <td>227</td>\n      <td>227</td>\n      <td>252</td>\n      <td>2</td>\n      <td>-1</td>\n      <td>...</td>\n      <td>-1</td>\n      <td>3765</td>\n      <td></td>\n      <td>NaN</td>\n      <td>NaN</td>\n      <td>NaN</td>\n      <td>NaN</td>\n      <td>NaN</td>\n      <td>NaN</td>\n      <td>FEMENINO</td>\n    </tr>\n  </tbody>\n</table>\n<p>68552 rows × 22 columns</p>\n</div>"
     },
     "metadata": {},
     "execution_count": 28
    }
   ],
   "source": [
    "personas_full"
   ]
  },
  {
   "cell_type": "code",
   "execution_count": 29,
   "metadata": {},
   "outputs": [
    {
     "output_type": "execute_result",
     "data": {
      "text/plain": [
       "0        36\n",
       "1        30\n",
       "2        51\n",
       "3        48\n",
       "4        41\n",
       "         ..\n",
       "68547    53\n",
       "68548    -1\n",
       "68549    24\n",
       "68550    21\n",
       "68551    27\n",
       "Name: edad, Length: 68552, dtype: int64"
      ]
     },
     "metadata": {},
     "execution_count": 29
    }
   ],
   "source": [
    "personas_full.edad"
   ]
  },
  {
   "cell_type": "code",
   "execution_count": 30,
   "metadata": {},
   "outputs": [
    {
     "output_type": "execute_result",
     "data": {
      "text/plain": [
       "       persona_id  anio  sexo_id  edad  grado_academico_id  \\\n",
       "2356         6522  2011        2    88                   1   \n",
       "19486       63317  2011        2    85                   5   \n",
       "14466       44842  2011        2    84                   1   \n",
       "3397         9442  2011        2    84                  -1   \n",
       "6372        18569  2011        2    84                   1   \n",
       "5453        15685  2011        2    83                   1   \n",
       "5316        15238  2011        2    83                   3   \n",
       "9368        29049  2011        2    83                   1   \n",
       "5365        15407  2011        2    83                   1   \n",
       "18730       59467  2011        2    83                   1   \n",
       "\n",
       "       disciplina_maximo_grado_academico_id  disciplina_id  \\\n",
       "2356                                      1             -1   \n",
       "19486                                   107            107   \n",
       "14466                                   118            118   \n",
       "3397                                     -1             -1   \n",
       "6372                                    255            255   \n",
       "5453                                    233            233   \n",
       "5316                                     -1             -1   \n",
       "9368                                    258            258   \n",
       "5365                                     17             17   \n",
       "18730                                   176             48   \n",
       "\n",
       "       disciplina_experticia_id  tipo_personal_id  producciones_ult_anio  ...  \\\n",
       "2356                         -1                 3                      0  ...   \n",
       "19486                       259                 4                      0  ...   \n",
       "14466                       271                 3                     12  ...   \n",
       "3397                         46                 3                      4  ...   \n",
       "6372                         58                 3                      3  ...   \n",
       "5453                        233                 3                      0  ...   \n",
       "5316                        243                 3                      7  ...   \n",
       "9368                         42                 3                      1  ...   \n",
       "5365                         38                 3                      1  ...   \n",
       "18730                        48                 3                      8  ...   \n",
       "\n",
       "       producciones_ult_4_anios  institucion_trabajo_id  seniority_level  \\\n",
       "2356                          8                    3993              A     \n",
       "19486                         0                     247                    \n",
       "14466                        28                     211              S/D   \n",
       "3397                         19                    3397              A     \n",
       "6372                         11                     431              A     \n",
       "5453                         12                     186              S/D   \n",
       "5316                         22                    5960              A     \n",
       "9368                          1                     757              S/D   \n",
       "5365                          9                    1430              A     \n",
       "18730                        13                     922              A     \n",
       "\n",
       "       categoria_conicet_id categoria_incentivos  \\\n",
       "2356                    5.0                  1.0   \n",
       "19486                  -1.0                 -1.0   \n",
       "14466                  -1.0                 -1.0   \n",
       "3397                   -1.0                  1.0   \n",
       "6372                   -1.0                  1.0   \n",
       "5453                   -1.0                 -1.0   \n",
       "5316                   -1.0                  1.0   \n",
       "9368                   -1.0                 -1.0   \n",
       "5365                   -1.0                  1.0   \n",
       "18730                  -1.0                  1.0   \n",
       "\n",
       "       tipo_dedicacion_horaria_semanal_id  institucion_cargo_docente_id  \\\n",
       "2356                                  1.0                        3993.0   \n",
       "19486                                 3.0                         219.0   \n",
       "14466                                 3.0                         211.0   \n",
       "3397                                  3.0                        3396.0   \n",
       "6372                                  1.0                         430.0   \n",
       "5453                                  3.0                         186.0   \n",
       "5316                                  2.0                         116.0   \n",
       "9368                                  1.0                         757.0   \n",
       "5365                                  3.0                         413.0   \n",
       "18730                                 3.0                         530.0   \n",
       "\n",
       "       clase_cargo_docente_id  tipo_condicion_docente_id  sexo_descripcion  \n",
       "2356                     69.0                        1.0         MASCULINO  \n",
       "19486                    23.0                        2.0         MASCULINO  \n",
       "14466                    17.0                        1.0         MASCULINO  \n",
       "3397                     69.0                        3.0         MASCULINO  \n",
       "6372                     17.0                        1.0         MASCULINO  \n",
       "5453                     59.0                        2.0         MASCULINO  \n",
       "5316                     61.0                        2.0         MASCULINO  \n",
       "9368                     17.0                        1.0         MASCULINO  \n",
       "5365                     24.0                        3.0         MASCULINO  \n",
       "18730                    18.0                        1.0         MASCULINO  \n",
       "\n",
       "[10 rows x 22 columns]"
      ],
      "text/html": "<div>\n<style scoped>\n    .dataframe tbody tr th:only-of-type {\n        vertical-align: middle;\n    }\n\n    .dataframe tbody tr th {\n        vertical-align: top;\n    }\n\n    .dataframe thead th {\n        text-align: right;\n    }\n</style>\n<table border=\"1\" class=\"dataframe\">\n  <thead>\n    <tr style=\"text-align: right;\">\n      <th></th>\n      <th>persona_id</th>\n      <th>anio</th>\n      <th>sexo_id</th>\n      <th>edad</th>\n      <th>grado_academico_id</th>\n      <th>disciplina_maximo_grado_academico_id</th>\n      <th>disciplina_id</th>\n      <th>disciplina_experticia_id</th>\n      <th>tipo_personal_id</th>\n      <th>producciones_ult_anio</th>\n      <th>...</th>\n      <th>producciones_ult_4_anios</th>\n      <th>institucion_trabajo_id</th>\n      <th>seniority_level</th>\n      <th>categoria_conicet_id</th>\n      <th>categoria_incentivos</th>\n      <th>tipo_dedicacion_horaria_semanal_id</th>\n      <th>institucion_cargo_docente_id</th>\n      <th>clase_cargo_docente_id</th>\n      <th>tipo_condicion_docente_id</th>\n      <th>sexo_descripcion</th>\n    </tr>\n  </thead>\n  <tbody>\n    <tr>\n      <th>2356</th>\n      <td>6522</td>\n      <td>2011</td>\n      <td>2</td>\n      <td>88</td>\n      <td>1</td>\n      <td>1</td>\n      <td>-1</td>\n      <td>-1</td>\n      <td>3</td>\n      <td>0</td>\n      <td>...</td>\n      <td>8</td>\n      <td>3993</td>\n      <td>A</td>\n      <td>5.0</td>\n      <td>1.0</td>\n      <td>1.0</td>\n      <td>3993.0</td>\n      <td>69.0</td>\n      <td>1.0</td>\n      <td>MASCULINO</td>\n    </tr>\n    <tr>\n      <th>19486</th>\n      <td>63317</td>\n      <td>2011</td>\n      <td>2</td>\n      <td>85</td>\n      <td>5</td>\n      <td>107</td>\n      <td>107</td>\n      <td>259</td>\n      <td>4</td>\n      <td>0</td>\n      <td>...</td>\n      <td>0</td>\n      <td>247</td>\n      <td></td>\n      <td>-1.0</td>\n      <td>-1.0</td>\n      <td>3.0</td>\n      <td>219.0</td>\n      <td>23.0</td>\n      <td>2.0</td>\n      <td>MASCULINO</td>\n    </tr>\n    <tr>\n      <th>14466</th>\n      <td>44842</td>\n      <td>2011</td>\n      <td>2</td>\n      <td>84</td>\n      <td>1</td>\n      <td>118</td>\n      <td>118</td>\n      <td>271</td>\n      <td>3</td>\n      <td>12</td>\n      <td>...</td>\n      <td>28</td>\n      <td>211</td>\n      <td>S/D</td>\n      <td>-1.0</td>\n      <td>-1.0</td>\n      <td>3.0</td>\n      <td>211.0</td>\n      <td>17.0</td>\n      <td>1.0</td>\n      <td>MASCULINO</td>\n    </tr>\n    <tr>\n      <th>3397</th>\n      <td>9442</td>\n      <td>2011</td>\n      <td>2</td>\n      <td>84</td>\n      <td>-1</td>\n      <td>-1</td>\n      <td>-1</td>\n      <td>46</td>\n      <td>3</td>\n      <td>4</td>\n      <td>...</td>\n      <td>19</td>\n      <td>3397</td>\n      <td>A</td>\n      <td>-1.0</td>\n      <td>1.0</td>\n      <td>3.0</td>\n      <td>3396.0</td>\n      <td>69.0</td>\n      <td>3.0</td>\n      <td>MASCULINO</td>\n    </tr>\n    <tr>\n      <th>6372</th>\n      <td>18569</td>\n      <td>2011</td>\n      <td>2</td>\n      <td>84</td>\n      <td>1</td>\n      <td>255</td>\n      <td>255</td>\n      <td>58</td>\n      <td>3</td>\n      <td>3</td>\n      <td>...</td>\n      <td>11</td>\n      <td>431</td>\n      <td>A</td>\n      <td>-1.0</td>\n      <td>1.0</td>\n      <td>1.0</td>\n      <td>430.0</td>\n      <td>17.0</td>\n      <td>1.0</td>\n      <td>MASCULINO</td>\n    </tr>\n    <tr>\n      <th>5453</th>\n      <td>15685</td>\n      <td>2011</td>\n      <td>2</td>\n      <td>83</td>\n      <td>1</td>\n      <td>233</td>\n      <td>233</td>\n      <td>233</td>\n      <td>3</td>\n      <td>0</td>\n      <td>...</td>\n      <td>12</td>\n      <td>186</td>\n      <td>S/D</td>\n      <td>-1.0</td>\n      <td>-1.0</td>\n      <td>3.0</td>\n      <td>186.0</td>\n      <td>59.0</td>\n      <td>2.0</td>\n      <td>MASCULINO</td>\n    </tr>\n    <tr>\n      <th>5316</th>\n      <td>15238</td>\n      <td>2011</td>\n      <td>2</td>\n      <td>83</td>\n      <td>3</td>\n      <td>-1</td>\n      <td>-1</td>\n      <td>243</td>\n      <td>3</td>\n      <td>7</td>\n      <td>...</td>\n      <td>22</td>\n      <td>5960</td>\n      <td>A</td>\n      <td>-1.0</td>\n      <td>1.0</td>\n      <td>2.0</td>\n      <td>116.0</td>\n      <td>61.0</td>\n      <td>2.0</td>\n      <td>MASCULINO</td>\n    </tr>\n    <tr>\n      <th>9368</th>\n      <td>29049</td>\n      <td>2011</td>\n      <td>2</td>\n      <td>83</td>\n      <td>1</td>\n      <td>258</td>\n      <td>258</td>\n      <td>42</td>\n      <td>3</td>\n      <td>1</td>\n      <td>...</td>\n      <td>1</td>\n      <td>757</td>\n      <td>S/D</td>\n      <td>-1.0</td>\n      <td>-1.0</td>\n      <td>1.0</td>\n      <td>757.0</td>\n      <td>17.0</td>\n      <td>1.0</td>\n      <td>MASCULINO</td>\n    </tr>\n    <tr>\n      <th>5365</th>\n      <td>15407</td>\n      <td>2011</td>\n      <td>2</td>\n      <td>83</td>\n      <td>1</td>\n      <td>17</td>\n      <td>17</td>\n      <td>38</td>\n      <td>3</td>\n      <td>1</td>\n      <td>...</td>\n      <td>9</td>\n      <td>1430</td>\n      <td>A</td>\n      <td>-1.0</td>\n      <td>1.0</td>\n      <td>3.0</td>\n      <td>413.0</td>\n      <td>24.0</td>\n      <td>3.0</td>\n      <td>MASCULINO</td>\n    </tr>\n    <tr>\n      <th>18730</th>\n      <td>59467</td>\n      <td>2011</td>\n      <td>2</td>\n      <td>83</td>\n      <td>1</td>\n      <td>176</td>\n      <td>48</td>\n      <td>48</td>\n      <td>3</td>\n      <td>8</td>\n      <td>...</td>\n      <td>13</td>\n      <td>922</td>\n      <td>A</td>\n      <td>-1.0</td>\n      <td>1.0</td>\n      <td>3.0</td>\n      <td>530.0</td>\n      <td>18.0</td>\n      <td>1.0</td>\n      <td>MASCULINO</td>\n    </tr>\n  </tbody>\n</table>\n<p>10 rows × 22 columns</p>\n</div>"
     },
     "metadata": {},
     "execution_count": 30
    }
   ],
   "source": [
    "mayores = personas_full.sort_values(by=\"edad\", ascending=False).head(10)\n",
    "mayores"
   ]
  },
  {
   "cell_type": "code",
   "execution_count": 31,
   "metadata": {},
   "outputs": [
    {
     "output_type": "execute_result",
     "data": {
      "text/plain": [
       "       persona_id  anio  edad  producciones_ult_4_anios  categoria_conicet_id\n",
       "2356         6522  2011    88                         8                   5.0\n",
       "19486       63317  2011    85                         0                  -1.0\n",
       "14466       44842  2011    84                        28                  -1.0\n",
       "3397         9442  2011    84                        19                  -1.0\n",
       "6372        18569  2011    84                        11                  -1.0\n",
       "5453        15685  2011    83                        12                  -1.0\n",
       "5316        15238  2011    83                        22                  -1.0\n",
       "9368        29049  2011    83                         1                  -1.0\n",
       "5365        15407  2011    83                         9                  -1.0\n",
       "18730       59467  2011    83                        13                  -1.0"
      ],
      "text/html": "<div>\n<style scoped>\n    .dataframe tbody tr th:only-of-type {\n        vertical-align: middle;\n    }\n\n    .dataframe tbody tr th {\n        vertical-align: top;\n    }\n\n    .dataframe thead th {\n        text-align: right;\n    }\n</style>\n<table border=\"1\" class=\"dataframe\">\n  <thead>\n    <tr style=\"text-align: right;\">\n      <th></th>\n      <th>persona_id</th>\n      <th>anio</th>\n      <th>edad</th>\n      <th>producciones_ult_4_anios</th>\n      <th>categoria_conicet_id</th>\n    </tr>\n  </thead>\n  <tbody>\n    <tr>\n      <th>2356</th>\n      <td>6522</td>\n      <td>2011</td>\n      <td>88</td>\n      <td>8</td>\n      <td>5.0</td>\n    </tr>\n    <tr>\n      <th>19486</th>\n      <td>63317</td>\n      <td>2011</td>\n      <td>85</td>\n      <td>0</td>\n      <td>-1.0</td>\n    </tr>\n    <tr>\n      <th>14466</th>\n      <td>44842</td>\n      <td>2011</td>\n      <td>84</td>\n      <td>28</td>\n      <td>-1.0</td>\n    </tr>\n    <tr>\n      <th>3397</th>\n      <td>9442</td>\n      <td>2011</td>\n      <td>84</td>\n      <td>19</td>\n      <td>-1.0</td>\n    </tr>\n    <tr>\n      <th>6372</th>\n      <td>18569</td>\n      <td>2011</td>\n      <td>84</td>\n      <td>11</td>\n      <td>-1.0</td>\n    </tr>\n    <tr>\n      <th>5453</th>\n      <td>15685</td>\n      <td>2011</td>\n      <td>83</td>\n      <td>12</td>\n      <td>-1.0</td>\n    </tr>\n    <tr>\n      <th>5316</th>\n      <td>15238</td>\n      <td>2011</td>\n      <td>83</td>\n      <td>22</td>\n      <td>-1.0</td>\n    </tr>\n    <tr>\n      <th>9368</th>\n      <td>29049</td>\n      <td>2011</td>\n      <td>83</td>\n      <td>1</td>\n      <td>-1.0</td>\n    </tr>\n    <tr>\n      <th>5365</th>\n      <td>15407</td>\n      <td>2011</td>\n      <td>83</td>\n      <td>9</td>\n      <td>-1.0</td>\n    </tr>\n    <tr>\n      <th>18730</th>\n      <td>59467</td>\n      <td>2011</td>\n      <td>83</td>\n      <td>13</td>\n      <td>-1.0</td>\n    </tr>\n  </tbody>\n</table>\n</div>"
     },
     "metadata": {},
     "execution_count": 31
    }
   ],
   "source": [
    "mayores1 = mayores[['persona_id','anio', 'edad', 'producciones_ult_4_anios', 'categoria_conicet_id']]\n",
    "mayores1"
   ]
  },
  {
   "cell_type": "code",
   "execution_count": 32,
   "metadata": {},
   "outputs": [
    {
     "output_type": "execute_result",
     "data": {
      "text/plain": [
       "   persona_id  anio  edad  producciones_ult_4_anios  categoria_conicet_id  \\\n",
       "0        6522  2011    88                         8                   5.0   \n",
       "1       63317  2011    85                         0                  -1.0   \n",
       "2       44842  2011    84                        28                  -1.0   \n",
       "3        9442  2011    84                        19                  -1.0   \n",
       "4       18569  2011    84                        11                  -1.0   \n",
       "5       15685  2011    83                        12                  -1.0   \n",
       "6       15238  2011    83                        22                  -1.0   \n",
       "7       29049  2011    83                         1                  -1.0   \n",
       "8       15407  2011    83                         9                  -1.0   \n",
       "9       59467  2011    83                        13                  -1.0   \n",
       "\n",
       "  categoria_conicet_descripcion  \n",
       "0         Investigador superior  \n",
       "1        No pertenece a Conicet  \n",
       "2        No pertenece a Conicet  \n",
       "3        No pertenece a Conicet  \n",
       "4        No pertenece a Conicet  \n",
       "5        No pertenece a Conicet  \n",
       "6        No pertenece a Conicet  \n",
       "7        No pertenece a Conicet  \n",
       "8        No pertenece a Conicet  \n",
       "9        No pertenece a Conicet  "
      ],
      "text/html": "<div>\n<style scoped>\n    .dataframe tbody tr th:only-of-type {\n        vertical-align: middle;\n    }\n\n    .dataframe tbody tr th {\n        vertical-align: top;\n    }\n\n    .dataframe thead th {\n        text-align: right;\n    }\n</style>\n<table border=\"1\" class=\"dataframe\">\n  <thead>\n    <tr style=\"text-align: right;\">\n      <th></th>\n      <th>persona_id</th>\n      <th>anio</th>\n      <th>edad</th>\n      <th>producciones_ult_4_anios</th>\n      <th>categoria_conicet_id</th>\n      <th>categoria_conicet_descripcion</th>\n    </tr>\n  </thead>\n  <tbody>\n    <tr>\n      <th>0</th>\n      <td>6522</td>\n      <td>2011</td>\n      <td>88</td>\n      <td>8</td>\n      <td>5.0</td>\n      <td>Investigador superior</td>\n    </tr>\n    <tr>\n      <th>1</th>\n      <td>63317</td>\n      <td>2011</td>\n      <td>85</td>\n      <td>0</td>\n      <td>-1.0</td>\n      <td>No pertenece a Conicet</td>\n    </tr>\n    <tr>\n      <th>2</th>\n      <td>44842</td>\n      <td>2011</td>\n      <td>84</td>\n      <td>28</td>\n      <td>-1.0</td>\n      <td>No pertenece a Conicet</td>\n    </tr>\n    <tr>\n      <th>3</th>\n      <td>9442</td>\n      <td>2011</td>\n      <td>84</td>\n      <td>19</td>\n      <td>-1.0</td>\n      <td>No pertenece a Conicet</td>\n    </tr>\n    <tr>\n      <th>4</th>\n      <td>18569</td>\n      <td>2011</td>\n      <td>84</td>\n      <td>11</td>\n      <td>-1.0</td>\n      <td>No pertenece a Conicet</td>\n    </tr>\n    <tr>\n      <th>5</th>\n      <td>15685</td>\n      <td>2011</td>\n      <td>83</td>\n      <td>12</td>\n      <td>-1.0</td>\n      <td>No pertenece a Conicet</td>\n    </tr>\n    <tr>\n      <th>6</th>\n      <td>15238</td>\n      <td>2011</td>\n      <td>83</td>\n      <td>22</td>\n      <td>-1.0</td>\n      <td>No pertenece a Conicet</td>\n    </tr>\n    <tr>\n      <th>7</th>\n      <td>29049</td>\n      <td>2011</td>\n      <td>83</td>\n      <td>1</td>\n      <td>-1.0</td>\n      <td>No pertenece a Conicet</td>\n    </tr>\n    <tr>\n      <th>8</th>\n      <td>15407</td>\n      <td>2011</td>\n      <td>83</td>\n      <td>9</td>\n      <td>-1.0</td>\n      <td>No pertenece a Conicet</td>\n    </tr>\n    <tr>\n      <th>9</th>\n      <td>59467</td>\n      <td>2011</td>\n      <td>83</td>\n      <td>13</td>\n      <td>-1.0</td>\n      <td>No pertenece a Conicet</td>\n    </tr>\n  </tbody>\n</table>\n</div>"
     },
     "metadata": {},
     "execution_count": 32
    }
   ],
   "source": [
    "mix = pd.merge(mayores1, conicet, on = \"categoria_conicet_id\")\n",
    "mix"
   ]
  },
  {
   "cell_type": "code",
   "execution_count": 33,
   "metadata": {},
   "outputs": [],
   "source": [
    "mix.to_csv(r\"mix.csv\",sep=\";\")"
   ]
  }
 ]
}