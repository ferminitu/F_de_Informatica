{
 "metadata": {
  "language_info": {
   "codemirror_mode": {
    "name": "ipython",
    "version": 3
   },
   "file_extension": ".py",
   "mimetype": "text/x-python",
   "name": "python",
   "nbconvert_exporter": "python",
   "pygments_lexer": "ipython3",
   "version": "3.9.2"
  },
  "orig_nbformat": 2,
  "kernelspec": {
   "name": "python392jvsc74a57bd07812ea015bdcee6f23a998adcdd2ef97c151c0c241b7b7070987d9313e41299d",
   "display_name": "Python 3.9.2 64-bit ('3.9')"
  },
  "metadata": {
   "interpreter": {
    "hash": "7812ea015bdcee6f23a998adcdd2ef97c151c0c241b7b7070987d9313e41299d"
   }
  }
 },
 "nbformat": 4,
 "nbformat_minor": 2,
 "cells": [
  {
   "cell_type": "code",
   "execution_count": 1,
   "metadata": {},
   "outputs": [],
   "source": [
    "import pandas as pd"
   ]
  },
  {
   "cell_type": "code",
   "execution_count": 2,
   "metadata": {},
   "outputs": [],
   "source": [
    "personas = pd.read_csv('/Users/ferminiturriaga/Desktop/UCEMA/2021/F_de_Informatica/F. de Informática/Python avanzado/Ciencia de Datos/Data/personas_2011.csv')"
   ]
  },
  {
   "cell_type": "code",
   "execution_count": 3,
   "metadata": {},
   "outputs": [
    {
     "output_type": "execute_result",
     "data": {
      "text/plain": [
       "      persona_id;anio;sexo_id;edad;maximo_grado_academico_id;disciplina_maximo_grado_academico_id;disciplina_titulo_grado_id;disciplina_experticia_id;tipo_personal_id;producciones_ult_anio;producciones_ult_2_anios;producciones_ult_3_anios;producciones_ult_4_anios;institucion_trabajo_id;seniority_level;categoria_conicet_id;categoria_incentivos;max_dedicacion_horaria_docente_id;institucion_cargo_docente_id;clase_cargo_docente_id;tipo_condicion_docente_id\n",
       "0      1;2011;2;36;-1;-1;-1;64;4;0;1;1;1;4488;   ;-1;...                                                                                                                                                                                                                                                                                                                                                                                                                \n",
       "1      5;2011;1;48;1;255;255;255;3;5;7;13;17;118;B  ;...                                                                                                                                                                                                                                                                                                                                                                                                                \n",
       "2      7;2011;2;30;5;111;111;158;1;11;13;13;13;587;D ...                                                                                                                                                                                                                                                                                                                                                                                                                \n",
       "3      10;2011;2;51;5;248;248;29;4;0;1;3;4;44;   ;-1;...                                                                                                                                                                                                                                                                                                                                                                                                                \n",
       "4      11;2011;1;39;2;223;203;280;3;8;12;15;18;7310;C...                                                                                                                                                                                                                                                                                                                                                                                                                \n",
       "...                                                  ...                                                                                                                                                                                                                                                                                                                                                                                                                \n",
       "68547  185558;2011;2;-1;-1;-1;-1;263;2;-1;-1;-1;-1;22...                                                                                                                                                                                                                                                                                                                                                                                                                \n",
       "68548  185574;2011;2;55;-1;-1;-1;38;2;0;0;0;0;10971; ...                                                                                                                                                                                                                                                                                                                                                                                                                \n",
       "68549  185583;2011;2;18;7;-1;-1;216;2;-1;-1;-1;-1;106...                                                                                                                                                                                                                                                                                                                                                                                                                \n",
       "68550  185590;2011;2;-1;8;-1;-1;250;2;-1;-1;-1;-1;396...                                                                                                                                                                                                                                                                                                                                                                                                                \n",
       "68551  185608;2011;1;27;5;227;227;252;2;-1;-1;-1;-1;3...                                                                                                                                                                                                                                                                                                                                                                                                                \n",
       "\n",
       "[68552 rows x 1 columns]"
      ],
      "text/html": "<div>\n<style scoped>\n    .dataframe tbody tr th:only-of-type {\n        vertical-align: middle;\n    }\n\n    .dataframe tbody tr th {\n        vertical-align: top;\n    }\n\n    .dataframe thead th {\n        text-align: right;\n    }\n</style>\n<table border=\"1\" class=\"dataframe\">\n  <thead>\n    <tr style=\"text-align: right;\">\n      <th></th>\n      <th>persona_id;anio;sexo_id;edad;maximo_grado_academico_id;disciplina_maximo_grado_academico_id;disciplina_titulo_grado_id;disciplina_experticia_id;tipo_personal_id;producciones_ult_anio;producciones_ult_2_anios;producciones_ult_3_anios;producciones_ult_4_anios;institucion_trabajo_id;seniority_level;categoria_conicet_id;categoria_incentivos;max_dedicacion_horaria_docente_id;institucion_cargo_docente_id;clase_cargo_docente_id;tipo_condicion_docente_id</th>\n    </tr>\n  </thead>\n  <tbody>\n    <tr>\n      <th>0</th>\n      <td>1;2011;2;36;-1;-1;-1;64;4;0;1;1;1;4488;   ;-1;...</td>\n    </tr>\n    <tr>\n      <th>1</th>\n      <td>5;2011;1;48;1;255;255;255;3;5;7;13;17;118;B  ;...</td>\n    </tr>\n    <tr>\n      <th>2</th>\n      <td>7;2011;2;30;5;111;111;158;1;11;13;13;13;587;D ...</td>\n    </tr>\n    <tr>\n      <th>3</th>\n      <td>10;2011;2;51;5;248;248;29;4;0;1;3;4;44;   ;-1;...</td>\n    </tr>\n    <tr>\n      <th>4</th>\n      <td>11;2011;1;39;2;223;203;280;3;8;12;15;18;7310;C...</td>\n    </tr>\n    <tr>\n      <th>...</th>\n      <td>...</td>\n    </tr>\n    <tr>\n      <th>68547</th>\n      <td>185558;2011;2;-1;-1;-1;-1;263;2;-1;-1;-1;-1;22...</td>\n    </tr>\n    <tr>\n      <th>68548</th>\n      <td>185574;2011;2;55;-1;-1;-1;38;2;0;0;0;0;10971; ...</td>\n    </tr>\n    <tr>\n      <th>68549</th>\n      <td>185583;2011;2;18;7;-1;-1;216;2;-1;-1;-1;-1;106...</td>\n    </tr>\n    <tr>\n      <th>68550</th>\n      <td>185590;2011;2;-1;8;-1;-1;250;2;-1;-1;-1;-1;396...</td>\n    </tr>\n    <tr>\n      <th>68551</th>\n      <td>185608;2011;1;27;5;227;227;252;2;-1;-1;-1;-1;3...</td>\n    </tr>\n  </tbody>\n</table>\n<p>68552 rows × 1 columns</p>\n</div>"
     },
     "metadata": {},
     "execution_count": 3
    }
   ],
   "source": [
    "personas"
   ]
  },
  {
   "cell_type": "code",
   "execution_count": 4,
   "metadata": {},
   "outputs": [
    {
     "output_type": "execute_result",
     "data": {
      "text/plain": [
       "      persona_id;anio;sexo_id;edad;maximo_grado_academico_id;disciplina_maximo_grado_academico_id;disciplina_titulo_grado_id;disciplina_experticia_id;tipo_personal_id;producciones_ult_anio;producciones_ult_2_anios;producciones_ult_3_anios;producciones_ult_4_anios;institucion_trabajo_id;seniority_level;categoria_conicet_id;categoria_incentivos;max_dedicacion_horaria_docente_id;institucion_cargo_docente_id;clase_cargo_docente_id;tipo_condicion_docente_id\n",
       "0      1;2011;2;36;-1;-1;-1;64;4;0;1;1;1;4488;   ;-1;...                                                                                                                                                                                                                                                                                                                                                                                                                \n",
       "1      5;2011;1;48;1;255;255;255;3;5;7;13;17;118;B  ;...                                                                                                                                                                                                                                                                                                                                                                                                                \n",
       "2      7;2011;2;30;5;111;111;158;1;11;13;13;13;587;D ...                                                                                                                                                                                                                                                                                                                                                                                                                \n",
       "3      10;2011;2;51;5;248;248;29;4;0;1;3;4;44;   ;-1;...                                                                                                                                                                                                                                                                                                                                                                                                                \n",
       "4      11;2011;1;39;2;223;203;280;3;8;12;15;18;7310;C...                                                                                                                                                                                                                                                                                                                                                                                                                \n",
       "...                                                  ...                                                                                                                                                                                                                                                                                                                                                                                                                \n",
       "68547  185558;2011;2;-1;-1;-1;-1;263;2;-1;-1;-1;-1;22...                                                                                                                                                                                                                                                                                                                                                                                                                \n",
       "68548  185574;2011;2;55;-1;-1;-1;38;2;0;0;0;0;10971; ...                                                                                                                                                                                                                                                                                                                                                                                                                \n",
       "68549  185583;2011;2;18;7;-1;-1;216;2;-1;-1;-1;-1;106...                                                                                                                                                                                                                                                                                                                                                                                                                \n",
       "68550  185590;2011;2;-1;8;-1;-1;250;2;-1;-1;-1;-1;396...                                                                                                                                                                                                                                                                                                                                                                                                                \n",
       "68551  185608;2011;1;27;5;227;227;252;2;-1;-1;-1;-1;3...                                                                                                                                                                                                                                                                                                                                                                                                                \n",
       "\n",
       "[68552 rows x 1 columns]"
      ],
      "text/html": "<div>\n<style scoped>\n    .dataframe tbody tr th:only-of-type {\n        vertical-align: middle;\n    }\n\n    .dataframe tbody tr th {\n        vertical-align: top;\n    }\n\n    .dataframe thead th {\n        text-align: right;\n    }\n</style>\n<table border=\"1\" class=\"dataframe\">\n  <thead>\n    <tr style=\"text-align: right;\">\n      <th></th>\n      <th>persona_id;anio;sexo_id;edad;maximo_grado_academico_id;disciplina_maximo_grado_academico_id;disciplina_titulo_grado_id;disciplina_experticia_id;tipo_personal_id;producciones_ult_anio;producciones_ult_2_anios;producciones_ult_3_anios;producciones_ult_4_anios;institucion_trabajo_id;seniority_level;categoria_conicet_id;categoria_incentivos;max_dedicacion_horaria_docente_id;institucion_cargo_docente_id;clase_cargo_docente_id;tipo_condicion_docente_id</th>\n    </tr>\n  </thead>\n  <tbody>\n    <tr>\n      <th>0</th>\n      <td>1;2011;2;36;-1;-1;-1;64;4;0;1;1;1;4488;   ;-1;...</td>\n    </tr>\n    <tr>\n      <th>1</th>\n      <td>5;2011;1;48;1;255;255;255;3;5;7;13;17;118;B  ;...</td>\n    </tr>\n    <tr>\n      <th>2</th>\n      <td>7;2011;2;30;5;111;111;158;1;11;13;13;13;587;D ...</td>\n    </tr>\n    <tr>\n      <th>3</th>\n      <td>10;2011;2;51;5;248;248;29;4;0;1;3;4;44;   ;-1;...</td>\n    </tr>\n    <tr>\n      <th>4</th>\n      <td>11;2011;1;39;2;223;203;280;3;8;12;15;18;7310;C...</td>\n    </tr>\n    <tr>\n      <th>...</th>\n      <td>...</td>\n    </tr>\n    <tr>\n      <th>68547</th>\n      <td>185558;2011;2;-1;-1;-1;-1;263;2;-1;-1;-1;-1;22...</td>\n    </tr>\n    <tr>\n      <th>68548</th>\n      <td>185574;2011;2;55;-1;-1;-1;38;2;0;0;0;0;10971; ...</td>\n    </tr>\n    <tr>\n      <th>68549</th>\n      <td>185583;2011;2;18;7;-1;-1;216;2;-1;-1;-1;-1;106...</td>\n    </tr>\n    <tr>\n      <th>68550</th>\n      <td>185590;2011;2;-1;8;-1;-1;250;2;-1;-1;-1;-1;396...</td>\n    </tr>\n    <tr>\n      <th>68551</th>\n      <td>185608;2011;1;27;5;227;227;252;2;-1;-1;-1;-1;3...</td>\n    </tr>\n  </tbody>\n</table>\n<p>68552 rows × 1 columns</p>\n</div>"
     },
     "metadata": {},
     "execution_count": 4
    }
   ],
   "source": [
    "personas"
   ]
  },
  {
   "cell_type": "code",
   "execution_count": 5,
   "metadata": {},
   "outputs": [
    {
     "output_type": "execute_result",
     "data": {
      "text/plain": [
       "  persona_id;anio;sexo_id;edad;maximo_grado_academico_id;disciplina_maximo_grado_academico_id;disciplina_titulo_grado_id;disciplina_experticia_id;tipo_personal_id;producciones_ult_anio;producciones_ult_2_anios;producciones_ult_3_anios;producciones_ult_4_anios;institucion_trabajo_id;seniority_level;categoria_conicet_id;categoria_incentivos;max_dedicacion_horaria_docente_id;institucion_cargo_docente_id;clase_cargo_docente_id;tipo_condicion_docente_id\n",
       "0  1;2011;2;36;-1;-1;-1;64;4;0;1;1;1;4488;   ;-1;...                                                                                                                                                                                                                                                                                                                                                                                                                \n",
       "1  5;2011;1;48;1;255;255;255;3;5;7;13;17;118;B  ;...                                                                                                                                                                                                                                                                                                                                                                                                                \n",
       "2  7;2011;2;30;5;111;111;158;1;11;13;13;13;587;D ...                                                                                                                                                                                                                                                                                                                                                                                                                \n",
       "3  10;2011;2;51;5;248;248;29;4;0;1;3;4;44;   ;-1;...                                                                                                                                                                                                                                                                                                                                                                                                                \n",
       "4  11;2011;1;39;2;223;203;280;3;8;12;15;18;7310;C...                                                                                                                                                                                                                                                                                                                                                                                                                \n",
       "5  12;2011;2;48;1;58;57;55;1;1;2;2;3;578;B  ;-1;3...                                                                                                                                                                                                                                                                                                                                                                                                                \n",
       "6  13;2011;2;41;5;192;192;281;4;0;0;0;0;517;   ;-...                                                                                                                                                                                                                                                                                                                                                                                                                \n",
       "7  15;2011;1;46;1;258;258;49;3;4;7;9;12;444;B  ;-...                                                                                                                                                                                                                                                                                                                                                                                                                \n",
       "8  17;2011;2;53;2;281;199;151;3;0;0;1;2;691;C  ;-...                                                                                                                                                                                                                                                                                                                                                                                                                \n",
       "9  19;2011;2;52;1;255;255;255;3;0;1;1;2;122;A  ;3...                                                                                                                                                                                                                                                                                                                                                                                                                "
      ],
      "text/html": "<div>\n<style scoped>\n    .dataframe tbody tr th:only-of-type {\n        vertical-align: middle;\n    }\n\n    .dataframe tbody tr th {\n        vertical-align: top;\n    }\n\n    .dataframe thead th {\n        text-align: right;\n    }\n</style>\n<table border=\"1\" class=\"dataframe\">\n  <thead>\n    <tr style=\"text-align: right;\">\n      <th></th>\n      <th>persona_id;anio;sexo_id;edad;maximo_grado_academico_id;disciplina_maximo_grado_academico_id;disciplina_titulo_grado_id;disciplina_experticia_id;tipo_personal_id;producciones_ult_anio;producciones_ult_2_anios;producciones_ult_3_anios;producciones_ult_4_anios;institucion_trabajo_id;seniority_level;categoria_conicet_id;categoria_incentivos;max_dedicacion_horaria_docente_id;institucion_cargo_docente_id;clase_cargo_docente_id;tipo_condicion_docente_id</th>\n    </tr>\n  </thead>\n  <tbody>\n    <tr>\n      <th>0</th>\n      <td>1;2011;2;36;-1;-1;-1;64;4;0;1;1;1;4488;   ;-1;...</td>\n    </tr>\n    <tr>\n      <th>1</th>\n      <td>5;2011;1;48;1;255;255;255;3;5;7;13;17;118;B  ;...</td>\n    </tr>\n    <tr>\n      <th>2</th>\n      <td>7;2011;2;30;5;111;111;158;1;11;13;13;13;587;D ...</td>\n    </tr>\n    <tr>\n      <th>3</th>\n      <td>10;2011;2;51;5;248;248;29;4;0;1;3;4;44;   ;-1;...</td>\n    </tr>\n    <tr>\n      <th>4</th>\n      <td>11;2011;1;39;2;223;203;280;3;8;12;15;18;7310;C...</td>\n    </tr>\n    <tr>\n      <th>5</th>\n      <td>12;2011;2;48;1;58;57;55;1;1;2;2;3;578;B  ;-1;3...</td>\n    </tr>\n    <tr>\n      <th>6</th>\n      <td>13;2011;2;41;5;192;192;281;4;0;0;0;0;517;   ;-...</td>\n    </tr>\n    <tr>\n      <th>7</th>\n      <td>15;2011;1;46;1;258;258;49;3;4;7;9;12;444;B  ;-...</td>\n    </tr>\n    <tr>\n      <th>8</th>\n      <td>17;2011;2;53;2;281;199;151;3;0;0;1;2;691;C  ;-...</td>\n    </tr>\n    <tr>\n      <th>9</th>\n      <td>19;2011;2;52;1;255;255;255;3;0;1;1;2;122;A  ;3...</td>\n    </tr>\n  </tbody>\n</table>\n</div>"
     },
     "metadata": {},
     "execution_count": 5
    }
   ],
   "source": [
    "personas.head(10)"
   ]
  },
  {
   "cell_type": "code",
   "execution_count": 6,
   "metadata": {},
   "outputs": [],
   "source": [
    "personas = personas.rename(columns = {\"clase_cargo_docente_id\": \"clase_cargo_id\"})\n",
    "personas = personas.rename(columns = {\"disciplina_titulo_grado_id\": \"disciplina_id\"})\n",
    "personas = personas.rename(columns = {\"disciplina_maximo_grado_academico_id\": \"grado_academico_id\"})\n",
    "personas = personas.rename(columns = {\"max_dedicacion_horaria_docente_id\": \"tipo_dedicacion_horaria_semanal_id\"})\n"
   ]
  },
  {
   "cell_type": "code",
   "execution_count": 7,
   "metadata": {},
   "outputs": [],
   "source": [
    "personas_full = pd.read_csv('/Users/ferminiturriaga/Desktop/UCEMA/2021/F_de_Informatica/F. de Informática/Python avanzado/Ciencia de Datos/Data/personas_full.csv')"
   ]
  },
  {
   "cell_type": "code",
   "execution_count": 8,
   "metadata": {},
   "outputs": [
    {
     "output_type": "execute_result",
     "data": {
      "text/plain": [
       "       persona_id  anio  sexo_id  edad  grado_academico_id  \\\n",
       "0               1  2011        2    36                  -1   \n",
       "1               7  2011        2    30                   5   \n",
       "2              10  2011        2    51                   5   \n",
       "3              12  2011        2    48                   1   \n",
       "4              13  2011        2    41                   5   \n",
       "...           ...   ...      ...   ...                 ...   \n",
       "68547      185439  2011        1    53                   5   \n",
       "68548      185455  2011        1    -1                  -1   \n",
       "68549      185513  2011        1    24                  -1   \n",
       "68550      185515  2011        1    21                   7   \n",
       "68551      185608  2011        1    27                   5   \n",
       "\n",
       "       disciplina_maximo_grado_academico_id  disciplina_id  \\\n",
       "0                                        -1             -1   \n",
       "1                                       111            111   \n",
       "2                                       248            248   \n",
       "3                                        58             57   \n",
       "4                                       192            192   \n",
       "...                                     ...            ...   \n",
       "68547                                   106            106   \n",
       "68548                                    -1             -1   \n",
       "68549                                    -1             -1   \n",
       "68550                                    -1             -1   \n",
       "68551                                   227            227   \n",
       "\n",
       "       disciplina_experticia_id  tipo_personal_id  producciones_ult_anio  ...  \\\n",
       "0                            64                 4                      0  ...   \n",
       "1                           158                 1                     11  ...   \n",
       "2                            29                 4                      0  ...   \n",
       "3                            55                 1                      1  ...   \n",
       "4                           281                 4                      0  ...   \n",
       "...                         ...               ...                    ...  ...   \n",
       "68547                       250                 2                     -1  ...   \n",
       "68548                        47                 2                     -1  ...   \n",
       "68549                       147                 4                     -1  ...   \n",
       "68550                       282                 2                     -1  ...   \n",
       "68551                       252                 2                     -1  ...   \n",
       "\n",
       "       producciones_ult_4_anios  institucion_trabajo_id  seniority_level  \\\n",
       "0                             1                    4488                    \n",
       "1                            13                     587              D     \n",
       "2                             4                      44                    \n",
       "3                             3                     578              B     \n",
       "4                             0                     517                    \n",
       "...                         ...                     ...              ...   \n",
       "68547                        -1                    8312                    \n",
       "68548                        -1                     398                    \n",
       "68549                        -1                   11088                    \n",
       "68550                        -1                    1735                    \n",
       "68551                        -1                    3765                    \n",
       "\n",
       "       categoria_conicet_id categoria_incentivos  \\\n",
       "0                      -1.0                 -1.0   \n",
       "1                       NaN                  NaN   \n",
       "2                      -1.0                  4.0   \n",
       "3                      -1.0                  3.0   \n",
       "4                      -1.0                 -1.0   \n",
       "...                     ...                  ...   \n",
       "68547                   NaN                  NaN   \n",
       "68548                   NaN                  NaN   \n",
       "68549                  -1.0                 -1.0   \n",
       "68550                   NaN                  NaN   \n",
       "68551                   NaN                  NaN   \n",
       "\n",
       "       tipo_dedicacion_horaria_semanal_id  institucion_cargo_docente_id  \\\n",
       "0                                     3.0                         116.0   \n",
       "1                                     NaN                           NaN   \n",
       "2                                     3.0                         124.0   \n",
       "3                                     1.0                         578.0   \n",
       "4                                     3.0                         517.0   \n",
       "...                                   ...                           ...   \n",
       "68547                                 NaN                           NaN   \n",
       "68548                                 NaN                           NaN   \n",
       "68549                                 3.0                         192.0   \n",
       "68550                                 NaN                           NaN   \n",
       "68551                                 NaN                           NaN   \n",
       "\n",
       "       clase_cargo_docente_id  tipo_condicion_docente_id  sexo_descripcion  \n",
       "0                        22.0                        1.0         MASCULINO  \n",
       "1                         NaN                        NaN         MASCULINO  \n",
       "2                        21.0                        1.0         MASCULINO  \n",
       "3                        19.0                        1.0         MASCULINO  \n",
       "4                        22.0                        1.0         MASCULINO  \n",
       "...                       ...                        ...               ...  \n",
       "68547                     NaN                        NaN          FEMENINO  \n",
       "68548                     NaN                        NaN          FEMENINO  \n",
       "68549                    22.0                        1.0          FEMENINO  \n",
       "68550                     NaN                        NaN          FEMENINO  \n",
       "68551                     NaN                        NaN          FEMENINO  \n",
       "\n",
       "[68552 rows x 22 columns]"
      ],
      "text/html": "<div>\n<style scoped>\n    .dataframe tbody tr th:only-of-type {\n        vertical-align: middle;\n    }\n\n    .dataframe tbody tr th {\n        vertical-align: top;\n    }\n\n    .dataframe thead th {\n        text-align: right;\n    }\n</style>\n<table border=\"1\" class=\"dataframe\">\n  <thead>\n    <tr style=\"text-align: right;\">\n      <th></th>\n      <th>persona_id</th>\n      <th>anio</th>\n      <th>sexo_id</th>\n      <th>edad</th>\n      <th>grado_academico_id</th>\n      <th>disciplina_maximo_grado_academico_id</th>\n      <th>disciplina_id</th>\n      <th>disciplina_experticia_id</th>\n      <th>tipo_personal_id</th>\n      <th>producciones_ult_anio</th>\n      <th>...</th>\n      <th>producciones_ult_4_anios</th>\n      <th>institucion_trabajo_id</th>\n      <th>seniority_level</th>\n      <th>categoria_conicet_id</th>\n      <th>categoria_incentivos</th>\n      <th>tipo_dedicacion_horaria_semanal_id</th>\n      <th>institucion_cargo_docente_id</th>\n      <th>clase_cargo_docente_id</th>\n      <th>tipo_condicion_docente_id</th>\n      <th>sexo_descripcion</th>\n    </tr>\n  </thead>\n  <tbody>\n    <tr>\n      <th>0</th>\n      <td>1</td>\n      <td>2011</td>\n      <td>2</td>\n      <td>36</td>\n      <td>-1</td>\n      <td>-1</td>\n      <td>-1</td>\n      <td>64</td>\n      <td>4</td>\n      <td>0</td>\n      <td>...</td>\n      <td>1</td>\n      <td>4488</td>\n      <td></td>\n      <td>-1.0</td>\n      <td>-1.0</td>\n      <td>3.0</td>\n      <td>116.0</td>\n      <td>22.0</td>\n      <td>1.0</td>\n      <td>MASCULINO</td>\n    </tr>\n    <tr>\n      <th>1</th>\n      <td>7</td>\n      <td>2011</td>\n      <td>2</td>\n      <td>30</td>\n      <td>5</td>\n      <td>111</td>\n      <td>111</td>\n      <td>158</td>\n      <td>1</td>\n      <td>11</td>\n      <td>...</td>\n      <td>13</td>\n      <td>587</td>\n      <td>D</td>\n      <td>NaN</td>\n      <td>NaN</td>\n      <td>NaN</td>\n      <td>NaN</td>\n      <td>NaN</td>\n      <td>NaN</td>\n      <td>MASCULINO</td>\n    </tr>\n    <tr>\n      <th>2</th>\n      <td>10</td>\n      <td>2011</td>\n      <td>2</td>\n      <td>51</td>\n      <td>5</td>\n      <td>248</td>\n      <td>248</td>\n      <td>29</td>\n      <td>4</td>\n      <td>0</td>\n      <td>...</td>\n      <td>4</td>\n      <td>44</td>\n      <td></td>\n      <td>-1.0</td>\n      <td>4.0</td>\n      <td>3.0</td>\n      <td>124.0</td>\n      <td>21.0</td>\n      <td>1.0</td>\n      <td>MASCULINO</td>\n    </tr>\n    <tr>\n      <th>3</th>\n      <td>12</td>\n      <td>2011</td>\n      <td>2</td>\n      <td>48</td>\n      <td>1</td>\n      <td>58</td>\n      <td>57</td>\n      <td>55</td>\n      <td>1</td>\n      <td>1</td>\n      <td>...</td>\n      <td>3</td>\n      <td>578</td>\n      <td>B</td>\n      <td>-1.0</td>\n      <td>3.0</td>\n      <td>1.0</td>\n      <td>578.0</td>\n      <td>19.0</td>\n      <td>1.0</td>\n      <td>MASCULINO</td>\n    </tr>\n    <tr>\n      <th>4</th>\n      <td>13</td>\n      <td>2011</td>\n      <td>2</td>\n      <td>41</td>\n      <td>5</td>\n      <td>192</td>\n      <td>192</td>\n      <td>281</td>\n      <td>4</td>\n      <td>0</td>\n      <td>...</td>\n      <td>0</td>\n      <td>517</td>\n      <td></td>\n      <td>-1.0</td>\n      <td>-1.0</td>\n      <td>3.0</td>\n      <td>517.0</td>\n      <td>22.0</td>\n      <td>1.0</td>\n      <td>MASCULINO</td>\n    </tr>\n    <tr>\n      <th>...</th>\n      <td>...</td>\n      <td>...</td>\n      <td>...</td>\n      <td>...</td>\n      <td>...</td>\n      <td>...</td>\n      <td>...</td>\n      <td>...</td>\n      <td>...</td>\n      <td>...</td>\n      <td>...</td>\n      <td>...</td>\n      <td>...</td>\n      <td>...</td>\n      <td>...</td>\n      <td>...</td>\n      <td>...</td>\n      <td>...</td>\n      <td>...</td>\n      <td>...</td>\n      <td>...</td>\n    </tr>\n    <tr>\n      <th>68547</th>\n      <td>185439</td>\n      <td>2011</td>\n      <td>1</td>\n      <td>53</td>\n      <td>5</td>\n      <td>106</td>\n      <td>106</td>\n      <td>250</td>\n      <td>2</td>\n      <td>-1</td>\n      <td>...</td>\n      <td>-1</td>\n      <td>8312</td>\n      <td></td>\n      <td>NaN</td>\n      <td>NaN</td>\n      <td>NaN</td>\n      <td>NaN</td>\n      <td>NaN</td>\n      <td>NaN</td>\n      <td>FEMENINO</td>\n    </tr>\n    <tr>\n      <th>68548</th>\n      <td>185455</td>\n      <td>2011</td>\n      <td>1</td>\n      <td>-1</td>\n      <td>-1</td>\n      <td>-1</td>\n      <td>-1</td>\n      <td>47</td>\n      <td>2</td>\n      <td>-1</td>\n      <td>...</td>\n      <td>-1</td>\n      <td>398</td>\n      <td></td>\n      <td>NaN</td>\n      <td>NaN</td>\n      <td>NaN</td>\n      <td>NaN</td>\n      <td>NaN</td>\n      <td>NaN</td>\n      <td>FEMENINO</td>\n    </tr>\n    <tr>\n      <th>68549</th>\n      <td>185513</td>\n      <td>2011</td>\n      <td>1</td>\n      <td>24</td>\n      <td>-1</td>\n      <td>-1</td>\n      <td>-1</td>\n      <td>147</td>\n      <td>4</td>\n      <td>-1</td>\n      <td>...</td>\n      <td>-1</td>\n      <td>11088</td>\n      <td></td>\n      <td>-1.0</td>\n      <td>-1.0</td>\n      <td>3.0</td>\n      <td>192.0</td>\n      <td>22.0</td>\n      <td>1.0</td>\n      <td>FEMENINO</td>\n    </tr>\n    <tr>\n      <th>68550</th>\n      <td>185515</td>\n      <td>2011</td>\n      <td>1</td>\n      <td>21</td>\n      <td>7</td>\n      <td>-1</td>\n      <td>-1</td>\n      <td>282</td>\n      <td>2</td>\n      <td>-1</td>\n      <td>...</td>\n      <td>-1</td>\n      <td>1735</td>\n      <td></td>\n      <td>NaN</td>\n      <td>NaN</td>\n      <td>NaN</td>\n      <td>NaN</td>\n      <td>NaN</td>\n      <td>NaN</td>\n      <td>FEMENINO</td>\n    </tr>\n    <tr>\n      <th>68551</th>\n      <td>185608</td>\n      <td>2011</td>\n      <td>1</td>\n      <td>27</td>\n      <td>5</td>\n      <td>227</td>\n      <td>227</td>\n      <td>252</td>\n      <td>2</td>\n      <td>-1</td>\n      <td>...</td>\n      <td>-1</td>\n      <td>3765</td>\n      <td></td>\n      <td>NaN</td>\n      <td>NaN</td>\n      <td>NaN</td>\n      <td>NaN</td>\n      <td>NaN</td>\n      <td>NaN</td>\n      <td>FEMENINO</td>\n    </tr>\n  </tbody>\n</table>\n<p>68552 rows × 22 columns</p>\n</div>"
     },
     "metadata": {},
     "execution_count": 8
    }
   ],
   "source": [
    "personas_full"
   ]
  },
  {
   "cell_type": "code",
   "execution_count": 9,
   "metadata": {},
   "outputs": [
    {
     "output_type": "error",
     "ename": "ModuleNotFoundError",
     "evalue": "No module named 'seaborn'",
     "traceback": [
      "\u001b[0;31m---------------------------------------------------------------------------\u001b[0m",
      "\u001b[0;31mModuleNotFoundError\u001b[0m                       Traceback (most recent call last)",
      "\u001b[0;32m<ipython-input-9-a84c0541e888>\u001b[0m in \u001b[0;36m<module>\u001b[0;34m\u001b[0m\n\u001b[0;32m----> 1\u001b[0;31m \u001b[0;32mimport\u001b[0m \u001b[0mseaborn\u001b[0m \u001b[0;32mas\u001b[0m \u001b[0msns\u001b[0m\u001b[0;34m\u001b[0m\u001b[0;34m\u001b[0m\u001b[0m\n\u001b[0m",
      "\u001b[0;31mModuleNotFoundError\u001b[0m: No module named 'seaborn'"
     ]
    }
   ],
   "source": [
    "import seaborn as sns"
   ]
  },
  {
   "cell_type": "code",
   "execution_count": 10,
   "metadata": {},
   "outputs": [
    {
     "output_type": "error",
     "ename": "ModuleNotFoundError",
     "evalue": "No module named 'seaborn'",
     "traceback": [
      "\u001b[0;31m---------------------------------------------------------------------------\u001b[0m",
      "\u001b[0;31mModuleNotFoundError\u001b[0m                       Traceback (most recent call last)",
      "\u001b[0;32m<ipython-input-10-8f97ff58163c>\u001b[0m in \u001b[0;36m<module>\u001b[0;34m\u001b[0m\n\u001b[0;32m----> 1\u001b[0;31m \u001b[0;32mimport\u001b[0m \u001b[0mseaborn\u001b[0m \u001b[0;32mas\u001b[0m \u001b[0msns\u001b[0m\u001b[0;34m\u001b[0m\u001b[0;34m\u001b[0m\u001b[0m\n\u001b[0m\u001b[1;32m      2\u001b[0m \u001b[0;32mimport\u001b[0m \u001b[0mmatplotlib\u001b[0m\u001b[0;34m.\u001b[0m\u001b[0mpyplot\u001b[0m \u001b[0;32mas\u001b[0m \u001b[0mpit\u001b[0m\u001b[0;34m\u001b[0m\u001b[0;34m\u001b[0m\u001b[0m\n",
      "\u001b[0;31mModuleNotFoundError\u001b[0m: No module named 'seaborn'"
     ]
    }
   ],
   "source": [
    "import seaborn as sns\n",
    "import matplotlib.pyplot as pit"
   ]
  },
  {
   "cell_type": "code",
   "execution_count": 11,
   "metadata": {},
   "outputs": [
    {
     "output_type": "stream",
     "name": "stdout",
     "text": [
      "Collecting seaborn\n",
      "  Downloading seaborn-0.11.1-py3-none-any.whl (285 kB)\n",
      "\u001b[K     |████████████████████████████████| 285 kB 2.1 MB/s \n",
      "\u001b[?25hCollecting matplotlib>=2.2\n",
      "  Downloading matplotlib-3.4.2-cp39-cp39-macosx_10_9_x86_64.whl (7.2 MB)\n",
      "\u001b[K     |████████████████████████████████| 7.2 MB 7.1 MB/s \n",
      "\u001b[?25hCollecting scipy>=1.0\n",
      "  Downloading scipy-1.6.3-cp39-cp39-macosx_10_9_x86_64.whl (30.9 MB)\n",
      "\u001b[K     |████████████████████████████████| 30.9 MB 6.4 MB/s \n",
      "\u001b[?25hRequirement already satisfied: numpy>=1.15 in /Library/Frameworks/Python.framework/Versions/3.9/lib/python3.9/site-packages (from seaborn) (1.20.3)\n",
      "Requirement already satisfied: pandas>=0.23 in /Library/Frameworks/Python.framework/Versions/3.9/lib/python3.9/site-packages (from seaborn) (1.2.4)\n",
      "Collecting pyparsing>=2.2.1\n",
      "  Downloading pyparsing-2.4.7-py2.py3-none-any.whl (67 kB)\n",
      "\u001b[K     |████████████████████████████████| 67 kB 5.4 MB/s \n",
      "\u001b[?25hCollecting pillow>=6.2.0\n",
      "  Downloading Pillow-8.2.0-cp39-cp39-macosx_10_10_x86_64.whl (2.8 MB)\n",
      "\u001b[K     |████████████████████████████████| 2.8 MB 6.1 MB/s \n",
      "\u001b[?25hRequirement already satisfied: python-dateutil>=2.7 in /Library/Frameworks/Python.framework/Versions/3.9/lib/python3.9/site-packages (from matplotlib>=2.2->seaborn) (2.8.1)\n",
      "Collecting kiwisolver>=1.0.1\n",
      "  Downloading kiwisolver-1.3.1-cp39-cp39-macosx_10_9_x86_64.whl (61 kB)\n",
      "\u001b[K     |████████████████████████████████| 61 kB 877 kB/s \n",
      "\u001b[?25hCollecting cycler>=0.10\n",
      "  Downloading cycler-0.10.0-py2.py3-none-any.whl (6.5 kB)\n",
      "Requirement already satisfied: pytz>=2017.3 in /Library/Frameworks/Python.framework/Versions/3.9/lib/python3.9/site-packages (from pandas>=0.23->seaborn) (2021.1)\n",
      "Requirement already satisfied: six>=1.5 in /Library/Frameworks/Python.framework/Versions/3.9/lib/python3.9/site-packages (from python-dateutil>=2.7->matplotlib>=2.2->seaborn) (1.16.0)\n",
      "Installing collected packages: pyparsing, pillow, kiwisolver, cycler, matplotlib, scipy, seaborn\n",
      "Successfully installed cycler-0.10.0 kiwisolver-1.3.1 matplotlib-3.4.2 pillow-8.2.0 pyparsing-2.4.7 scipy-1.6.3 seaborn-0.11.1\n",
      "\u001b[33mWARNING: You are using pip version 20.2.3; however, version 21.1.2 is available.\n",
      "You should consider upgrading via the '/Library/Frameworks/Python.framework/Versions/3.9/bin/python3 -m pip install --upgrade pip' command.\u001b[0m\n",
      "Note: you may need to restart the kernel to use updated packages.\n"
     ]
    }
   ],
   "source": [
    "pip install seaborn"
   ]
  },
  {
   "cell_type": "code",
   "execution_count": 13,
   "metadata": {},
   "outputs": [],
   "source": [
    "import seaborn as sns\n",
    "import matplotlib.pyplot as pit"
   ]
  },
  {
   "cell_type": "code",
   "execution_count": null,
   "metadata": {},
   "outputs": [],
   "source": []
  }
 ]
}