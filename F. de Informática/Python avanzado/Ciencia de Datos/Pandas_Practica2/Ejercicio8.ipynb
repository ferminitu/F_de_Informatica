{
 "metadata": {
  "language_info": {
   "codemirror_mode": {
    "name": "ipython",
    "version": 3
   },
   "file_extension": ".py",
   "mimetype": "text/x-python",
   "name": "python",
   "nbconvert_exporter": "python",
   "pygments_lexer": "ipython3",
   "version": "3.9.2"
  },
  "orig_nbformat": 4,
  "kernelspec": {
   "name": "python3",
   "display_name": "Python 3.9.2 64-bit ('3.9')"
  },
  "interpreter": {
   "hash": "7812ea015bdcee6f23a998adcdd2ef97c151c0c241b7b7070987d9313e41299d"
  }
 },
 "nbformat": 4,
 "nbformat_minor": 2,
 "cells": [
  {
   "cell_type": "code",
   "execution_count": 1,
   "metadata": {},
   "outputs": [
    {
     "output_type": "execute_result",
     "data": {
      "text/plain": [
       "  Alumnos Comision Carrera\n",
       "0    Agus       B0      ND\n",
       "1    Nico       B1     LNE\n",
       "2   Martu       B2    LINF\n",
       "3  Nicole       B3    LMKT\n",
       "4     Fer       B1      ND\n",
       "5   Pilar       B0      ND"
      ],
      "text/html": "<div>\n<style scoped>\n    .dataframe tbody tr th:only-of-type {\n        vertical-align: middle;\n    }\n\n    .dataframe tbody tr th {\n        vertical-align: top;\n    }\n\n    .dataframe thead th {\n        text-align: right;\n    }\n</style>\n<table border=\"1\" class=\"dataframe\">\n  <thead>\n    <tr style=\"text-align: right;\">\n      <th></th>\n      <th>Alumnos</th>\n      <th>Comision</th>\n      <th>Carrera</th>\n    </tr>\n  </thead>\n  <tbody>\n    <tr>\n      <th>0</th>\n      <td>Agus</td>\n      <td>B0</td>\n      <td>ND</td>\n    </tr>\n    <tr>\n      <th>1</th>\n      <td>Nico</td>\n      <td>B1</td>\n      <td>LNE</td>\n    </tr>\n    <tr>\n      <th>2</th>\n      <td>Martu</td>\n      <td>B2</td>\n      <td>LINF</td>\n    </tr>\n    <tr>\n      <th>3</th>\n      <td>Nicole</td>\n      <td>B3</td>\n      <td>LMKT</td>\n    </tr>\n    <tr>\n      <th>4</th>\n      <td>Fer</td>\n      <td>B1</td>\n      <td>ND</td>\n    </tr>\n    <tr>\n      <th>5</th>\n      <td>Pilar</td>\n      <td>B0</td>\n      <td>ND</td>\n    </tr>\n  </tbody>\n</table>\n</div>"
     },
     "metadata": {},
     "execution_count": 1
    }
   ],
   "source": [
    "import pandas as pd\n",
    "df1 =  pd.DataFrame({'Alumnos': ['Agus', 'Nico', 'Martu', 'Nicole', 'Fer', 'Pilar'], 'Comision': ['B0', 'B1','B2' ,'B3','B1' ,'B0'], 'Carrera': ['ND', 'LNE', 'LINF', 'LMKT', 'ND', 'ND']})\n",
    "df1"
   ]
  },
  {
   "cell_type": "code",
   "execution_count": 2,
   "metadata": {},
   "outputs": [
    {
     "output_type": "execute_result",
     "data": {
      "text/plain": [
       "  Alumnos  Anio\n",
       "0    Agus     1\n",
       "1    Nico     3\n",
       "2   Martu     2\n",
       "3  Nicole     4\n",
       "4     Fer     2\n",
       "5   Pilar     1"
      ],
      "text/html": "<div>\n<style scoped>\n    .dataframe tbody tr th:only-of-type {\n        vertical-align: middle;\n    }\n\n    .dataframe tbody tr th {\n        vertical-align: top;\n    }\n\n    .dataframe thead th {\n        text-align: right;\n    }\n</style>\n<table border=\"1\" class=\"dataframe\">\n  <thead>\n    <tr style=\"text-align: right;\">\n      <th></th>\n      <th>Alumnos</th>\n      <th>Anio</th>\n    </tr>\n  </thead>\n  <tbody>\n    <tr>\n      <th>0</th>\n      <td>Agus</td>\n      <td>1</td>\n    </tr>\n    <tr>\n      <th>1</th>\n      <td>Nico</td>\n      <td>3</td>\n    </tr>\n    <tr>\n      <th>2</th>\n      <td>Martu</td>\n      <td>2</td>\n    </tr>\n    <tr>\n      <th>3</th>\n      <td>Nicole</td>\n      <td>4</td>\n    </tr>\n    <tr>\n      <th>4</th>\n      <td>Fer</td>\n      <td>2</td>\n    </tr>\n    <tr>\n      <th>5</th>\n      <td>Pilar</td>\n      <td>1</td>\n    </tr>\n  </tbody>\n</table>\n</div>"
     },
     "metadata": {},
     "execution_count": 2
    }
   ],
   "source": [
    "df2 =  pd.DataFrame({'Alumnos': ['Agus', 'Nico', 'Martu', 'Nicole', 'Fer', 'Pilar'], 'Anio': [1,3,2,4,2,1]})\n",
    "df2"
   ]
  },
  {
   "cell_type": "code",
   "execution_count": 3,
   "metadata": {},
   "outputs": [
    {
     "output_type": "execute_result",
     "data": {
      "text/plain": [
       "  Alumnos\n",
       "0    Agus\n",
       "1    Nico\n",
       "2   Martu\n",
       "3  Nicole\n",
       "4     Fer\n",
       "5   Pilar\n",
       "0    Agus\n",
       "1    Nico\n",
       "2   Martu\n",
       "3  Nicole\n",
       "4     Fer\n",
       "5   Pilar"
      ],
      "text/html": "<div>\n<style scoped>\n    .dataframe tbody tr th:only-of-type {\n        vertical-align: middle;\n    }\n\n    .dataframe tbody tr th {\n        vertical-align: top;\n    }\n\n    .dataframe thead th {\n        text-align: right;\n    }\n</style>\n<table border=\"1\" class=\"dataframe\">\n  <thead>\n    <tr style=\"text-align: right;\">\n      <th></th>\n      <th>Alumnos</th>\n    </tr>\n  </thead>\n  <tbody>\n    <tr>\n      <th>0</th>\n      <td>Agus</td>\n    </tr>\n    <tr>\n      <th>1</th>\n      <td>Nico</td>\n    </tr>\n    <tr>\n      <th>2</th>\n      <td>Martu</td>\n    </tr>\n    <tr>\n      <th>3</th>\n      <td>Nicole</td>\n    </tr>\n    <tr>\n      <th>4</th>\n      <td>Fer</td>\n    </tr>\n    <tr>\n      <th>5</th>\n      <td>Pilar</td>\n    </tr>\n    <tr>\n      <th>0</th>\n      <td>Agus</td>\n    </tr>\n    <tr>\n      <th>1</th>\n      <td>Nico</td>\n    </tr>\n    <tr>\n      <th>2</th>\n      <td>Martu</td>\n    </tr>\n    <tr>\n      <th>3</th>\n      <td>Nicole</td>\n    </tr>\n    <tr>\n      <th>4</th>\n      <td>Fer</td>\n    </tr>\n    <tr>\n      <th>5</th>\n      <td>Pilar</td>\n    </tr>\n  </tbody>\n</table>\n</div>"
     },
     "metadata": {},
     "execution_count": 3
    }
   ],
   "source": [
    "pd.concat([df1, df2], join='inner')"
   ]
  },
  {
   "cell_type": "code",
   "execution_count": 4,
   "metadata": {},
   "outputs": [
    {
     "output_type": "execute_result",
     "data": {
      "text/plain": [
       "  Alumnos  Anio\n",
       "0   Pilar     1\n",
       "1   Martu     2\n",
       "2    Nico     3\n",
       "3  Nicole     4\n",
       "4     Fer     2\n",
       "5    Agus     1"
      ],
      "text/html": "<div>\n<style scoped>\n    .dataframe tbody tr th:only-of-type {\n        vertical-align: middle;\n    }\n\n    .dataframe tbody tr th {\n        vertical-align: top;\n    }\n\n    .dataframe thead th {\n        text-align: right;\n    }\n</style>\n<table border=\"1\" class=\"dataframe\">\n  <thead>\n    <tr style=\"text-align: right;\">\n      <th></th>\n      <th>Alumnos</th>\n      <th>Anio</th>\n    </tr>\n  </thead>\n  <tbody>\n    <tr>\n      <th>0</th>\n      <td>Pilar</td>\n      <td>1</td>\n    </tr>\n    <tr>\n      <th>1</th>\n      <td>Martu</td>\n      <td>2</td>\n    </tr>\n    <tr>\n      <th>2</th>\n      <td>Nico</td>\n      <td>3</td>\n    </tr>\n    <tr>\n      <th>3</th>\n      <td>Nicole</td>\n      <td>4</td>\n    </tr>\n    <tr>\n      <th>4</th>\n      <td>Fer</td>\n      <td>2</td>\n    </tr>\n    <tr>\n      <th>5</th>\n      <td>Agus</td>\n      <td>1</td>\n    </tr>\n  </tbody>\n</table>\n</div>"
     },
     "metadata": {},
     "execution_count": 4
    }
   ],
   "source": [
    "df2 =  pd.DataFrame({'Alumnos': ['Pilar', 'Martu', 'Nico', 'Nicole', 'Fer', 'Agus'], 'Anio': [1,2,3,4,2,1],})\n",
    "df2"
   ]
  },
  {
   "cell_type": "code",
   "execution_count": 5,
   "metadata": {},
   "outputs": [
    {
     "output_type": "execute_result",
     "data": {
      "text/plain": [
       "  Alumnos Comision Carrera  Anio\n",
       "0    Agus       B0      ND     1\n",
       "1    Nico       B1     LNE     3\n",
       "2   Martu       B2    LINF     2\n",
       "3  Nicole       B3    LMKT     4\n",
       "4     Fer       B1      ND     2\n",
       "5   Pilar       B0      ND     1"
      ],
      "text/html": "<div>\n<style scoped>\n    .dataframe tbody tr th:only-of-type {\n        vertical-align: middle;\n    }\n\n    .dataframe tbody tr th {\n        vertical-align: top;\n    }\n\n    .dataframe thead th {\n        text-align: right;\n    }\n</style>\n<table border=\"1\" class=\"dataframe\">\n  <thead>\n    <tr style=\"text-align: right;\">\n      <th></th>\n      <th>Alumnos</th>\n      <th>Comision</th>\n      <th>Carrera</th>\n      <th>Anio</th>\n    </tr>\n  </thead>\n  <tbody>\n    <tr>\n      <th>0</th>\n      <td>Agus</td>\n      <td>B0</td>\n      <td>ND</td>\n      <td>1</td>\n    </tr>\n    <tr>\n      <th>1</th>\n      <td>Nico</td>\n      <td>B1</td>\n      <td>LNE</td>\n      <td>3</td>\n    </tr>\n    <tr>\n      <th>2</th>\n      <td>Martu</td>\n      <td>B2</td>\n      <td>LINF</td>\n      <td>2</td>\n    </tr>\n    <tr>\n      <th>3</th>\n      <td>Nicole</td>\n      <td>B3</td>\n      <td>LMKT</td>\n      <td>4</td>\n    </tr>\n    <tr>\n      <th>4</th>\n      <td>Fer</td>\n      <td>B1</td>\n      <td>ND</td>\n      <td>2</td>\n    </tr>\n    <tr>\n      <th>5</th>\n      <td>Pilar</td>\n      <td>B0</td>\n      <td>ND</td>\n      <td>1</td>\n    </tr>\n  </tbody>\n</table>\n</div>"
     },
     "metadata": {},
     "execution_count": 5
    }
   ],
   "source": [
    "pd.merge(df1, df2, on=\"Alumnos\")"
   ]
  },
  {
   "cell_type": "code",
   "execution_count": null,
   "metadata": {},
   "outputs": [],
   "source": []
  }
 ]
}