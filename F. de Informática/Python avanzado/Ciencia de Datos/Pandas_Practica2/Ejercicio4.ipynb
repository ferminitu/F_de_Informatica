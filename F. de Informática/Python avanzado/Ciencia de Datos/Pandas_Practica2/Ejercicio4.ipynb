{
 "metadata": {
  "language_info": {
   "codemirror_mode": {
    "name": "ipython",
    "version": 3
   },
   "file_extension": ".py",
   "mimetype": "text/x-python",
   "name": "python",
   "nbconvert_exporter": "python",
   "pygments_lexer": "ipython3",
   "version": "3.9.2"
  },
  "orig_nbformat": 4,
  "kernelspec": {
   "name": "python3",
   "display_name": "Python 3.9.2 64-bit ('3.9')"
  },
  "interpreter": {
   "hash": "7812ea015bdcee6f23a998adcdd2ef97c151c0c241b7b7070987d9313e41299d"
  }
 },
 "nbformat": 4,
 "nbformat_minor": 2,
 "cells": [
  {
   "cell_type": "code",
   "execution_count": 1,
   "metadata": {},
   "outputs": [
    {
     "output_type": "execute_result",
     "data": {
      "text/plain": [
       "               biblioteca                   calle altura  calle_2      piso  \\\n",
       "3     BALDOMERO F. MORENO       CONCEPCION ARENAL   4206      NaN       NaN   \n",
       "4            BENITO LYNCH              PJE. YRUPE   6714      NaN       NaN   \n",
       "5    CARLOS GUIDO Y SPANO                  GÜEMES   4601      NaN       NaN   \n",
       "6                   CIRCE             AV. CORDOBA   1558      NaN       NaN   \n",
       "7   CNGO. LUIS CHORROARIN  SOLDADO DE LA FRONTERA   5059      NaN  BLOCK 23   \n",
       "8       CORNELIO SAAVEDRA      CRISOLOGO LARRALDE   6293      NaN       NaN   \n",
       "9          ENRIQUE BANCHS                 CASEROS    NaN  URQUIZA       NaN   \n",
       "10   ESTANISLAO DEL CAMPO       PJE. DE LAS ARTES   1210      NaN       NaN   \n",
       "11      EVARISTO CARRIEGO                HONDURAS   3784      NaN       NaN   \n",
       "12       HILARIO ASCASUBI        GRAL. CESAR DIAZ   4219      NaN       NaN   \n",
       "\n",
       "     telefono             observaciones            direccion_normalizada  \\\n",
       "3   4855-7508                       NaN          ARENAL, CONCEPCION 4206   \n",
       "4   4687-1977                       NaN                       YRUPE 6714   \n",
       "5   4773-5862                       NaN                      GUEMES 4601   \n",
       "6   4812-4723                       NaN                 CORDOBA AV. 1558   \n",
       "7   4605-9341  CERRADA POR REPARACIONES  SOLDADO DE LA FRONTERA AV. 5059   \n",
       "8   4571-2538                       NaN     LARRALDE, CRISOLOGO AV. 6293   \n",
       "9   4943-1078                       NaN     CASEROS AV. Y URQUIZA, GRAL.   \n",
       "10  4926-0161                       NaN                DE LAS ARTES 1210   \n",
       "11  4963-2194  CERRADA POR REPARACIONES                HONDURAS AV. 3784   \n",
       "12  4566-5171                       NaN          DIAZ, CESAR, GRAL. 4219   \n",
       "\n",
       "         long        lat            barrio     comuna  codigo_postal  \\\n",
       "3  -58.450363 -34.591353         CHACARITA  COMUNA 15         1427.0   \n",
       "4  -58.496872 -34.667674         MATADEROS   COMUNA 9         1440.0   \n",
       "5  -58.423874 -34.581349           PALERMO  COMUNA 14         1425.0   \n",
       "6  -58.389137 -34.599489       SAN NICOLAS   COMUNA 1         1055.0   \n",
       "7  -58.465109 -34.683800      VILLA LUGANO   COMUNA 8         1439.0   \n",
       "8  -58.507242 -34.568721          SAAVEDRA  COMUNA 12         1431.0   \n",
       "9  -58.407557 -34.637457  PARQUE PATRICIOS   COMUNA 4            NaN   \n",
       "10 -58.438338 -34.634052  PARQUE CHACABUCO   COMUNA 7         1424.0   \n",
       "11 -58.416114 -34.594143           PALERMO  COMUNA 14         1180.0   \n",
       "12 -58.492223 -34.623337          FLORESTA  COMUNA 10         1407.0   \n",
       "\n",
       "   codigo_postal_argentino  \n",
       "3                 C1427EKR  \n",
       "4                 C1440BND  \n",
       "5                 C1425BLI  \n",
       "6                 C1055AAS  \n",
       "7                 C1439FPC  \n",
       "8                 C1431AQE  \n",
       "9                      NaN  \n",
       "10                C1424BCH  \n",
       "11                C1180ACB  \n",
       "12                C1407ETS  "
      ],
      "text/html": "<div>\n<style scoped>\n    .dataframe tbody tr th:only-of-type {\n        vertical-align: middle;\n    }\n\n    .dataframe tbody tr th {\n        vertical-align: top;\n    }\n\n    .dataframe thead th {\n        text-align: right;\n    }\n</style>\n<table border=\"1\" class=\"dataframe\">\n  <thead>\n    <tr style=\"text-align: right;\">\n      <th></th>\n      <th>biblioteca</th>\n      <th>calle</th>\n      <th>altura</th>\n      <th>calle_2</th>\n      <th>piso</th>\n      <th>telefono</th>\n      <th>observaciones</th>\n      <th>direccion_normalizada</th>\n      <th>long</th>\n      <th>lat</th>\n      <th>barrio</th>\n      <th>comuna</th>\n      <th>codigo_postal</th>\n      <th>codigo_postal_argentino</th>\n    </tr>\n  </thead>\n  <tbody>\n    <tr>\n      <th>3</th>\n      <td>BALDOMERO F. MORENO</td>\n      <td>CONCEPCION ARENAL</td>\n      <td>4206</td>\n      <td>NaN</td>\n      <td>NaN</td>\n      <td>4855-7508</td>\n      <td>NaN</td>\n      <td>ARENAL, CONCEPCION 4206</td>\n      <td>-58.450363</td>\n      <td>-34.591353</td>\n      <td>CHACARITA</td>\n      <td>COMUNA 15</td>\n      <td>1427.0</td>\n      <td>C1427EKR</td>\n    </tr>\n    <tr>\n      <th>4</th>\n      <td>BENITO LYNCH</td>\n      <td>PJE. YRUPE</td>\n      <td>6714</td>\n      <td>NaN</td>\n      <td>NaN</td>\n      <td>4687-1977</td>\n      <td>NaN</td>\n      <td>YRUPE 6714</td>\n      <td>-58.496872</td>\n      <td>-34.667674</td>\n      <td>MATADEROS</td>\n      <td>COMUNA 9</td>\n      <td>1440.0</td>\n      <td>C1440BND</td>\n    </tr>\n    <tr>\n      <th>5</th>\n      <td>CARLOS GUIDO Y SPANO</td>\n      <td>GÜEMES</td>\n      <td>4601</td>\n      <td>NaN</td>\n      <td>NaN</td>\n      <td>4773-5862</td>\n      <td>NaN</td>\n      <td>GUEMES 4601</td>\n      <td>-58.423874</td>\n      <td>-34.581349</td>\n      <td>PALERMO</td>\n      <td>COMUNA 14</td>\n      <td>1425.0</td>\n      <td>C1425BLI</td>\n    </tr>\n    <tr>\n      <th>6</th>\n      <td>CIRCE</td>\n      <td>AV. CORDOBA</td>\n      <td>1558</td>\n      <td>NaN</td>\n      <td>NaN</td>\n      <td>4812-4723</td>\n      <td>NaN</td>\n      <td>CORDOBA AV. 1558</td>\n      <td>-58.389137</td>\n      <td>-34.599489</td>\n      <td>SAN NICOLAS</td>\n      <td>COMUNA 1</td>\n      <td>1055.0</td>\n      <td>C1055AAS</td>\n    </tr>\n    <tr>\n      <th>7</th>\n      <td>CNGO. LUIS CHORROARIN</td>\n      <td>SOLDADO DE LA FRONTERA</td>\n      <td>5059</td>\n      <td>NaN</td>\n      <td>BLOCK 23</td>\n      <td>4605-9341</td>\n      <td>CERRADA POR REPARACIONES</td>\n      <td>SOLDADO DE LA FRONTERA AV. 5059</td>\n      <td>-58.465109</td>\n      <td>-34.683800</td>\n      <td>VILLA LUGANO</td>\n      <td>COMUNA 8</td>\n      <td>1439.0</td>\n      <td>C1439FPC</td>\n    </tr>\n    <tr>\n      <th>8</th>\n      <td>CORNELIO SAAVEDRA</td>\n      <td>CRISOLOGO LARRALDE</td>\n      <td>6293</td>\n      <td>NaN</td>\n      <td>NaN</td>\n      <td>4571-2538</td>\n      <td>NaN</td>\n      <td>LARRALDE, CRISOLOGO AV. 6293</td>\n      <td>-58.507242</td>\n      <td>-34.568721</td>\n      <td>SAAVEDRA</td>\n      <td>COMUNA 12</td>\n      <td>1431.0</td>\n      <td>C1431AQE</td>\n    </tr>\n    <tr>\n      <th>9</th>\n      <td>ENRIQUE BANCHS</td>\n      <td>CASEROS</td>\n      <td>NaN</td>\n      <td>URQUIZA</td>\n      <td>NaN</td>\n      <td>4943-1078</td>\n      <td>NaN</td>\n      <td>CASEROS AV. Y URQUIZA, GRAL.</td>\n      <td>-58.407557</td>\n      <td>-34.637457</td>\n      <td>PARQUE PATRICIOS</td>\n      <td>COMUNA 4</td>\n      <td>NaN</td>\n      <td>NaN</td>\n    </tr>\n    <tr>\n      <th>10</th>\n      <td>ESTANISLAO DEL CAMPO</td>\n      <td>PJE. DE LAS ARTES</td>\n      <td>1210</td>\n      <td>NaN</td>\n      <td>NaN</td>\n      <td>4926-0161</td>\n      <td>NaN</td>\n      <td>DE LAS ARTES 1210</td>\n      <td>-58.438338</td>\n      <td>-34.634052</td>\n      <td>PARQUE CHACABUCO</td>\n      <td>COMUNA 7</td>\n      <td>1424.0</td>\n      <td>C1424BCH</td>\n    </tr>\n    <tr>\n      <th>11</th>\n      <td>EVARISTO CARRIEGO</td>\n      <td>HONDURAS</td>\n      <td>3784</td>\n      <td>NaN</td>\n      <td>NaN</td>\n      <td>4963-2194</td>\n      <td>CERRADA POR REPARACIONES</td>\n      <td>HONDURAS AV. 3784</td>\n      <td>-58.416114</td>\n      <td>-34.594143</td>\n      <td>PALERMO</td>\n      <td>COMUNA 14</td>\n      <td>1180.0</td>\n      <td>C1180ACB</td>\n    </tr>\n    <tr>\n      <th>12</th>\n      <td>HILARIO ASCASUBI</td>\n      <td>GRAL. CESAR DIAZ</td>\n      <td>4219</td>\n      <td>NaN</td>\n      <td>NaN</td>\n      <td>4566-5171</td>\n      <td>NaN</td>\n      <td>DIAZ, CESAR, GRAL. 4219</td>\n      <td>-58.492223</td>\n      <td>-34.623337</td>\n      <td>FLORESTA</td>\n      <td>COMUNA 10</td>\n      <td>1407.0</td>\n      <td>C1407ETS</td>\n    </tr>\n  </tbody>\n</table>\n</div>"
     },
     "metadata": {},
     "execution_count": 1
    }
   ],
   "source": [
    "import pandas as pd\n",
    "bibliotecas = pd.read_csv(\"http://cdn.buenosaires.gob.ar/datosabiertos/datasets/bibliotecas/bibliotecas.csv\")\n",
    "df = bibliotecas.loc[3:]\n",
    "df.head(10)"
   ]
  },
  {
   "cell_type": "code",
   "execution_count": null,
   "metadata": {},
   "outputs": [],
   "source": []
  }
 ]
}