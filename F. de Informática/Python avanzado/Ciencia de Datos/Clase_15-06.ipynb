{
 "metadata": {
  "language_info": {
   "codemirror_mode": {
    "name": "ipython",
    "version": 3
   },
   "file_extension": ".py",
   "mimetype": "text/x-python",
   "name": "python",
   "nbconvert_exporter": "python",
   "pygments_lexer": "ipython3",
   "version": "3.9.2"
  },
  "orig_nbformat": 4,
  "kernelspec": {
   "name": "python3",
   "display_name": "Python 3.9.2 64-bit ('3.9')"
  },
  "interpreter": {
   "hash": "7812ea015bdcee6f23a998adcdd2ef97c151c0c241b7b7070987d9313e41299d"
  }
 },
 "nbformat": 4,
 "nbformat_minor": 2,
 "cells": [
  {
   "cell_type": "code",
   "execution_count": 21,
   "metadata": {},
   "outputs": [],
   "source": [
    "import pandas as pd\n",
    "import seaborn as sns\n",
    "import sklearn"
   ]
  },
  {
   "cell_type": "code",
   "execution_count": 23,
   "metadata": {},
   "outputs": [
    {
     "output_type": "execute_result",
     "data": {
      "text/plain": [
       "      Nombres                                              Mail  \\\n",
       "0      Darryl             Nullam.vitae.diam@risusMorbimetus.org   \n",
       "1    Beatrice  Mauris.vestibulum.neque@purusaccumsaninterdum.ca   \n",
       "2       Diana                         lacus.Nulla@eumetusIn.org   \n",
       "3     Justina                        vel.convallis.in@sem.co.uk   \n",
       "4       Shana                     Proin@Suspendissesagittis.com   \n",
       "..        ...                                               ...   \n",
       "101    Lacota           lobortis.mauris@posuerecubiliaCurae.net   \n",
       "102    Gisela                              adipiscing@Sedeu.com   \n",
       "103     Dacey                                  Class@mienim.edu   \n",
       "104   Whitney                              dui@semegetmassa.edu   \n",
       "105      Aiko                          lacinia@sedpedenec.co.uk   \n",
       "\n",
       "                            Dirección    Sueldo  Altura  \n",
       "0         P.O. Box 572, 4082 Nunc Av.   76653.0    1.22  \n",
       "1         P.O. Box 710, 7929 Enim Rd.   77846.0    2.03  \n",
       "2                 5732 Penatibus Road   79301.0    1.41  \n",
       "3              969-5096 Phasellus Ave  101770.0    2.18  \n",
       "4                    4307 Aliquet Ave   73593.0    1.91  \n",
       "..                                ...       ...     ...  \n",
       "101     P.O. Box 794, 6194 Mauris Rd.  103061.0    1.94  \n",
       "102              427-5396 Vivamus Av.   56960.0    1.65  \n",
       "103         Ap #485-3637 Justo Avenue  124130.0    1.43  \n",
       "104                    8836 Donec Av.   70261.0    1.35  \n",
       "105  P.O. Box 263, 3970 Consequat St.  108380.0    1.31  \n",
       "\n",
       "[106 rows x 5 columns]"
      ],
      "text/html": "<div>\n<style scoped>\n    .dataframe tbody tr th:only-of-type {\n        vertical-align: middle;\n    }\n\n    .dataframe tbody tr th {\n        vertical-align: top;\n    }\n\n    .dataframe thead th {\n        text-align: right;\n    }\n</style>\n<table border=\"1\" class=\"dataframe\">\n  <thead>\n    <tr style=\"text-align: right;\">\n      <th></th>\n      <th>Nombres</th>\n      <th>Mail</th>\n      <th>Dirección</th>\n      <th>Sueldo</th>\n      <th>Altura</th>\n    </tr>\n  </thead>\n  <tbody>\n    <tr>\n      <th>0</th>\n      <td>Darryl</td>\n      <td>Nullam.vitae.diam@risusMorbimetus.org</td>\n      <td>P.O. Box 572, 4082 Nunc Av.</td>\n      <td>76653.0</td>\n      <td>1.22</td>\n    </tr>\n    <tr>\n      <th>1</th>\n      <td>Beatrice</td>\n      <td>Mauris.vestibulum.neque@purusaccumsaninterdum.ca</td>\n      <td>P.O. Box 710, 7929 Enim Rd.</td>\n      <td>77846.0</td>\n      <td>2.03</td>\n    </tr>\n    <tr>\n      <th>2</th>\n      <td>Diana</td>\n      <td>lacus.Nulla@eumetusIn.org</td>\n      <td>5732 Penatibus Road</td>\n      <td>79301.0</td>\n      <td>1.41</td>\n    </tr>\n    <tr>\n      <th>3</th>\n      <td>Justina</td>\n      <td>vel.convallis.in@sem.co.uk</td>\n      <td>969-5096 Phasellus Ave</td>\n      <td>101770.0</td>\n      <td>2.18</td>\n    </tr>\n    <tr>\n      <th>4</th>\n      <td>Shana</td>\n      <td>Proin@Suspendissesagittis.com</td>\n      <td>4307 Aliquet Ave</td>\n      <td>73593.0</td>\n      <td>1.91</td>\n    </tr>\n    <tr>\n      <th>...</th>\n      <td>...</td>\n      <td>...</td>\n      <td>...</td>\n      <td>...</td>\n      <td>...</td>\n    </tr>\n    <tr>\n      <th>101</th>\n      <td>Lacota</td>\n      <td>lobortis.mauris@posuerecubiliaCurae.net</td>\n      <td>P.O. Box 794, 6194 Mauris Rd.</td>\n      <td>103061.0</td>\n      <td>1.94</td>\n    </tr>\n    <tr>\n      <th>102</th>\n      <td>Gisela</td>\n      <td>adipiscing@Sedeu.com</td>\n      <td>427-5396 Vivamus Av.</td>\n      <td>56960.0</td>\n      <td>1.65</td>\n    </tr>\n    <tr>\n      <th>103</th>\n      <td>Dacey</td>\n      <td>Class@mienim.edu</td>\n      <td>Ap #485-3637 Justo Avenue</td>\n      <td>124130.0</td>\n      <td>1.43</td>\n    </tr>\n    <tr>\n      <th>104</th>\n      <td>Whitney</td>\n      <td>dui@semegetmassa.edu</td>\n      <td>8836 Donec Av.</td>\n      <td>70261.0</td>\n      <td>1.35</td>\n    </tr>\n    <tr>\n      <th>105</th>\n      <td>Aiko</td>\n      <td>lacinia@sedpedenec.co.uk</td>\n      <td>P.O. Box 263, 3970 Consequat St.</td>\n      <td>108380.0</td>\n      <td>1.31</td>\n    </tr>\n  </tbody>\n</table>\n<p>106 rows × 5 columns</p>\n</div>"
     },
     "metadata": {},
     "execution_count": 23
    }
   ],
   "source": [
    "datos = pd.read_csv('/Users/ferminiturriaga/Downloads/Datos(1).csv', sep = ',')\n",
    "datos"
   ]
  },
  {
   "cell_type": "code",
   "execution_count": 24,
   "metadata": {},
   "outputs": [
    {
     "output_type": "execute_result",
     "data": {
      "text/plain": [
       "              Sueldo      Altura\n",
       "count     103.000000  104.000000\n",
       "mean    97675.067961    1.942596\n",
       "std     48315.130888    1.557438\n",
       "min     51582.000000    1.120000\n",
       "25%     72589.500000    1.570000\n",
       "50%     97933.000000    1.745000\n",
       "75%    114400.000000    1.940000\n",
       "max    520083.000000   13.730000"
      ],
      "text/html": "<div>\n<style scoped>\n    .dataframe tbody tr th:only-of-type {\n        vertical-align: middle;\n    }\n\n    .dataframe tbody tr th {\n        vertical-align: top;\n    }\n\n    .dataframe thead th {\n        text-align: right;\n    }\n</style>\n<table border=\"1\" class=\"dataframe\">\n  <thead>\n    <tr style=\"text-align: right;\">\n      <th></th>\n      <th>Sueldo</th>\n      <th>Altura</th>\n    </tr>\n  </thead>\n  <tbody>\n    <tr>\n      <th>count</th>\n      <td>103.000000</td>\n      <td>104.000000</td>\n    </tr>\n    <tr>\n      <th>mean</th>\n      <td>97675.067961</td>\n      <td>1.942596</td>\n    </tr>\n    <tr>\n      <th>std</th>\n      <td>48315.130888</td>\n      <td>1.557438</td>\n    </tr>\n    <tr>\n      <th>min</th>\n      <td>51582.000000</td>\n      <td>1.120000</td>\n    </tr>\n    <tr>\n      <th>25%</th>\n      <td>72589.500000</td>\n      <td>1.570000</td>\n    </tr>\n    <tr>\n      <th>50%</th>\n      <td>97933.000000</td>\n      <td>1.745000</td>\n    </tr>\n    <tr>\n      <th>75%</th>\n      <td>114400.000000</td>\n      <td>1.940000</td>\n    </tr>\n    <tr>\n      <th>max</th>\n      <td>520083.000000</td>\n      <td>13.730000</td>\n    </tr>\n  </tbody>\n</table>\n</div>"
     },
     "metadata": {},
     "execution_count": 24
    }
   ],
   "source": [
    "datos.describe()"
   ]
  },
  {
   "cell_type": "code",
   "execution_count": null,
   "metadata": {},
   "outputs": [],
   "source": []
  }
 ]
}