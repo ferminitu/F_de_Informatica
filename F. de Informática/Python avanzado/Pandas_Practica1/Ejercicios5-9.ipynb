{
 "metadata": {
  "language_info": {
   "codemirror_mode": {
    "name": "ipython",
    "version": 3
   },
   "file_extension": ".py",
   "mimetype": "text/x-python",
   "name": "python",
   "nbconvert_exporter": "python",
   "pygments_lexer": "ipython3",
   "version": "3.9.2"
  },
  "orig_nbformat": 4,
  "kernelspec": {
   "name": "python3",
   "display_name": "Python 3.9.2 64-bit ('3.9')"
  },
  "interpreter": {
   "hash": "7812ea015bdcee6f23a998adcdd2ef97c151c0c241b7b7070987d9313e41299d"
  }
 },
 "nbformat": 4,
 "nbformat_minor": 2,
 "cells": [
  {
   "cell_type": "code",
   "execution_count": 18,
   "metadata": {},
   "outputs": [],
   "source": [
    "datos_ejemplo = {\"Nombre\": [\"Agustina\", \"Diana\", \"Karen\", \"Julián\", \"Emilio\", \"Miguel\", \"Mateo\", \"Laura\", \"Jorge\", \"Lucas\"], \"Puntaje\": [12.5, 9, 16.5, 13, 9, 20, 14.5, 10, 8, 19], \"Intentos\": [1, 3, 2, 3, 2, 3, 1, 1, 2, 1], \"Califica\": [1, 0, 1, 0, 0, 1, 1, 0, 0, 1]}\n",
    "\n",
    "labels = [\"a\", \"b\", \"c\", \"d\", \"e\", \"f\", \"g\", \"h\", \"i\", \"j\"]"
   ]
  },
  {
   "cell_type": "code",
   "execution_count": 19,
   "metadata": {},
   "outputs": [
    {
     "output_type": "execute_result",
     "data": {
      "text/plain": [
       "     Nombre  Puntaje  Intentos  Califica\n",
       "a  Agustina     12.5         1         1\n",
       "b     Diana      9.0         3         0\n",
       "c     Karen     16.5         2         1\n",
       "d    Julián     13.0         3         0\n",
       "e    Emilio      9.0         2         0\n",
       "f    Miguel     20.0         3         1\n",
       "g     Mateo     14.5         1         1\n",
       "h     Laura     10.0         1         0\n",
       "i     Jorge      8.0         2         0\n",
       "j     Lucas     19.0         1         1"
      ],
      "text/html": "<div>\n<style scoped>\n    .dataframe tbody tr th:only-of-type {\n        vertical-align: middle;\n    }\n\n    .dataframe tbody tr th {\n        vertical-align: top;\n    }\n\n    .dataframe thead th {\n        text-align: right;\n    }\n</style>\n<table border=\"1\" class=\"dataframe\">\n  <thead>\n    <tr style=\"text-align: right;\">\n      <th></th>\n      <th>Nombre</th>\n      <th>Puntaje</th>\n      <th>Intentos</th>\n      <th>Califica</th>\n    </tr>\n  </thead>\n  <tbody>\n    <tr>\n      <th>a</th>\n      <td>Agustina</td>\n      <td>12.5</td>\n      <td>1</td>\n      <td>1</td>\n    </tr>\n    <tr>\n      <th>b</th>\n      <td>Diana</td>\n      <td>9.0</td>\n      <td>3</td>\n      <td>0</td>\n    </tr>\n    <tr>\n      <th>c</th>\n      <td>Karen</td>\n      <td>16.5</td>\n      <td>2</td>\n      <td>1</td>\n    </tr>\n    <tr>\n      <th>d</th>\n      <td>Julián</td>\n      <td>13.0</td>\n      <td>3</td>\n      <td>0</td>\n    </tr>\n    <tr>\n      <th>e</th>\n      <td>Emilio</td>\n      <td>9.0</td>\n      <td>2</td>\n      <td>0</td>\n    </tr>\n    <tr>\n      <th>f</th>\n      <td>Miguel</td>\n      <td>20.0</td>\n      <td>3</td>\n      <td>1</td>\n    </tr>\n    <tr>\n      <th>g</th>\n      <td>Mateo</td>\n      <td>14.5</td>\n      <td>1</td>\n      <td>1</td>\n    </tr>\n    <tr>\n      <th>h</th>\n      <td>Laura</td>\n      <td>10.0</td>\n      <td>1</td>\n      <td>0</td>\n    </tr>\n    <tr>\n      <th>i</th>\n      <td>Jorge</td>\n      <td>8.0</td>\n      <td>2</td>\n      <td>0</td>\n    </tr>\n    <tr>\n      <th>j</th>\n      <td>Lucas</td>\n      <td>19.0</td>\n      <td>1</td>\n      <td>1</td>\n    </tr>\n  </tbody>\n</table>\n</div>"
     },
     "metadata": {},
     "execution_count": 19
    }
   ],
   "source": [
    "import pandas as pd\n",
    "df= pd.DataFrame(data = datos_ejemplo, index = labels)\n",
    "df"
   ]
  },
  {
   "cell_type": "code",
   "execution_count": 20,
   "metadata": {},
   "outputs": [
    {
     "output_type": "stream",
     "name": "stdout",
     "text": [
      "<class 'pandas.core.frame.DataFrame'>\nIndex: 10 entries, a to j\nData columns (total 4 columns):\n #   Column    Non-Null Count  Dtype  \n---  ------    --------------  -----  \n 0   Nombre    10 non-null     object \n 1   Puntaje   10 non-null     float64\n 2   Intentos  10 non-null     int64  \n 3   Califica  10 non-null     int64  \ndtypes: float64(1), int64(2), object(1)\nmemory usage: 400.0+ bytes\n"
     ]
    }
   ],
   "source": [
    "df.info()"
   ]
  },
  {
   "cell_type": "code",
   "execution_count": 21,
   "metadata": {},
   "outputs": [
    {
     "output_type": "execute_result",
     "data": {
      "text/plain": [
       "     Nombre  Puntaje  Intentos  Califica\n",
       "a  Agustina     12.5         1         1\n",
       "b     Diana      9.0         3         0\n",
       "c     Karen     16.5         2         1"
      ],
      "text/html": "<div>\n<style scoped>\n    .dataframe tbody tr th:only-of-type {\n        vertical-align: middle;\n    }\n\n    .dataframe tbody tr th {\n        vertical-align: top;\n    }\n\n    .dataframe thead th {\n        text-align: right;\n    }\n</style>\n<table border=\"1\" class=\"dataframe\">\n  <thead>\n    <tr style=\"text-align: right;\">\n      <th></th>\n      <th>Nombre</th>\n      <th>Puntaje</th>\n      <th>Intentos</th>\n      <th>Califica</th>\n    </tr>\n  </thead>\n  <tbody>\n    <tr>\n      <th>a</th>\n      <td>Agustina</td>\n      <td>12.5</td>\n      <td>1</td>\n      <td>1</td>\n    </tr>\n    <tr>\n      <th>b</th>\n      <td>Diana</td>\n      <td>9.0</td>\n      <td>3</td>\n      <td>0</td>\n    </tr>\n    <tr>\n      <th>c</th>\n      <td>Karen</td>\n      <td>16.5</td>\n      <td>2</td>\n      <td>1</td>\n    </tr>\n  </tbody>\n</table>\n</div>"
     },
     "metadata": {},
     "execution_count": 21
    }
   ],
   "source": [
    "df.head(3)"
   ]
  },
  {
   "cell_type": "code",
   "execution_count": 22,
   "metadata": {},
   "outputs": [
    {
     "output_type": "execute_result",
     "data": {
      "text/plain": [
       "     Nombre  Puntaje\n",
       "a  Agustina     12.5\n",
       "b     Diana      9.0\n",
       "c     Karen     16.5\n",
       "d    Julián     13.0\n",
       "e    Emilio      9.0\n",
       "f    Miguel     20.0\n",
       "g     Mateo     14.5\n",
       "h     Laura     10.0\n",
       "i     Jorge      8.0\n",
       "j     Lucas     19.0"
      ],
      "text/html": "<div>\n<style scoped>\n    .dataframe tbody tr th:only-of-type {\n        vertical-align: middle;\n    }\n\n    .dataframe tbody tr th {\n        vertical-align: top;\n    }\n\n    .dataframe thead th {\n        text-align: right;\n    }\n</style>\n<table border=\"1\" class=\"dataframe\">\n  <thead>\n    <tr style=\"text-align: right;\">\n      <th></th>\n      <th>Nombre</th>\n      <th>Puntaje</th>\n    </tr>\n  </thead>\n  <tbody>\n    <tr>\n      <th>a</th>\n      <td>Agustina</td>\n      <td>12.5</td>\n    </tr>\n    <tr>\n      <th>b</th>\n      <td>Diana</td>\n      <td>9.0</td>\n    </tr>\n    <tr>\n      <th>c</th>\n      <td>Karen</td>\n      <td>16.5</td>\n    </tr>\n    <tr>\n      <th>d</th>\n      <td>Julián</td>\n      <td>13.0</td>\n    </tr>\n    <tr>\n      <th>e</th>\n      <td>Emilio</td>\n      <td>9.0</td>\n    </tr>\n    <tr>\n      <th>f</th>\n      <td>Miguel</td>\n      <td>20.0</td>\n    </tr>\n    <tr>\n      <th>g</th>\n      <td>Mateo</td>\n      <td>14.5</td>\n    </tr>\n    <tr>\n      <th>h</th>\n      <td>Laura</td>\n      <td>10.0</td>\n    </tr>\n    <tr>\n      <th>i</th>\n      <td>Jorge</td>\n      <td>8.0</td>\n    </tr>\n    <tr>\n      <th>j</th>\n      <td>Lucas</td>\n      <td>19.0</td>\n    </tr>\n  </tbody>\n</table>\n</div>"
     },
     "metadata": {},
     "execution_count": 22
    }
   ],
   "source": [
    "df[['Nombre','Puntaje']]"
   ]
  },
  {
   "cell_type": "code",
   "execution_count": 23,
   "metadata": {},
   "outputs": [],
   "source": [
    "nombres = []\n",
    "long = []\n",
    "dic={}\n",
    "for i in df.Nombre.tolist():\n",
    "    nombres.append(str.upper(i))\n",
    "    long.append(len(i))\n",
    "dic['Nombre']=nombres\n",
    "dic['Long']= long"
   ]
  },
  {
   "cell_type": "code",
   "execution_count": 24,
   "metadata": {},
   "outputs": [
    {
     "output_type": "execute_result",
     "data": {
      "text/plain": [
       "['Agustina',\n",
       " 'Diana',\n",
       " 'Karen',\n",
       " 'Julián',\n",
       " 'Emilio',\n",
       " 'Miguel',\n",
       " 'Mateo',\n",
       " 'Laura',\n",
       " 'Jorge',\n",
       " 'Lucas']"
      ]
     },
     "metadata": {},
     "execution_count": 24
    }
   ],
   "source": [
    "df.Nombre.tolist()"
   ]
  },
  {
   "cell_type": "code",
   "execution_count": 25,
   "metadata": {},
   "outputs": [
    {
     "output_type": "execute_result",
     "data": {
      "text/plain": [
       "     Nombre  Long\n",
       "a  AGUSTINA     8\n",
       "b     DIANA     5\n",
       "c     KAREN     5\n",
       "d    JULIÁN     6\n",
       "e    EMILIO     6\n",
       "f    MIGUEL     6\n",
       "g     MATEO     5\n",
       "h     LAURA     5\n",
       "i     JORGE     5\n",
       "j     LUCAS     5"
      ],
      "text/html": "<div>\n<style scoped>\n    .dataframe tbody tr th:only-of-type {\n        vertical-align: middle;\n    }\n\n    .dataframe tbody tr th {\n        vertical-align: top;\n    }\n\n    .dataframe thead th {\n        text-align: right;\n    }\n</style>\n<table border=\"1\" class=\"dataframe\">\n  <thead>\n    <tr style=\"text-align: right;\">\n      <th></th>\n      <th>Nombre</th>\n      <th>Long</th>\n    </tr>\n  </thead>\n  <tbody>\n    <tr>\n      <th>a</th>\n      <td>AGUSTINA</td>\n      <td>8</td>\n    </tr>\n    <tr>\n      <th>b</th>\n      <td>DIANA</td>\n      <td>5</td>\n    </tr>\n    <tr>\n      <th>c</th>\n      <td>KAREN</td>\n      <td>5</td>\n    </tr>\n    <tr>\n      <th>d</th>\n      <td>JULIÁN</td>\n      <td>6</td>\n    </tr>\n    <tr>\n      <th>e</th>\n      <td>EMILIO</td>\n      <td>6</td>\n    </tr>\n    <tr>\n      <th>f</th>\n      <td>MIGUEL</td>\n      <td>6</td>\n    </tr>\n    <tr>\n      <th>g</th>\n      <td>MATEO</td>\n      <td>5</td>\n    </tr>\n    <tr>\n      <th>h</th>\n      <td>LAURA</td>\n      <td>5</td>\n    </tr>\n    <tr>\n      <th>i</th>\n      <td>JORGE</td>\n      <td>5</td>\n    </tr>\n    <tr>\n      <th>j</th>\n      <td>LUCAS</td>\n      <td>5</td>\n    </tr>\n  </tbody>\n</table>\n</div>"
     },
     "metadata": {},
     "execution_count": 25
    }
   ],
   "source": [
    "personas= pd.DataFrame(data = dic, index = labels)\n",
    "personas"
   ]
  }
 ]
}