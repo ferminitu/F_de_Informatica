{
 "metadata": {
  "language_info": {
   "codemirror_mode": {
    "name": "ipython",
    "version": 3
   },
   "file_extension": ".py",
   "mimetype": "text/x-python",
   "name": "python",
   "nbconvert_exporter": "python",
   "pygments_lexer": "ipython3",
   "version": "3.9.2"
  },
  "orig_nbformat": 4,
  "kernelspec": {
   "name": "python3",
   "display_name": "Python 3.9.2 64-bit ('3.9')"
  },
  "interpreter": {
   "hash": "7812ea015bdcee6f23a998adcdd2ef97c151c0c241b7b7070987d9313e41299d"
  }
 },
 "nbformat": 4,
 "nbformat_minor": 2,
 "cells": [
  {
   "cell_type": "code",
   "execution_count": 1,
   "metadata": {},
   "outputs": [
    {
     "output_type": "execute_result",
     "data": {
      "text/plain": [
       "            biblioteca                   calle altura calle_2      piso  \\\n",
       "0     ALFONSINA STORNI               VENEZUELA   1538     NaN         1   \n",
       "1        ALVARO YUNQUE  SOLDADO DE LA FRONTERA   5210     NaN  BLOCK 28   \n",
       "2       ANTONIO DEVOTO            BAHIA BLANCA   4025     NaN       NaN   \n",
       "3  BALDOMERO F. MORENO       CONCEPCION ARENAL   4206     NaN       NaN   \n",
       "4         BENITO LYNCH              PJE. YRUPE   6714     NaN       NaN   \n",
       "\n",
       "    telefono observaciones                    direccion_normalizada  \\\n",
       "0  4381-9345           NaN  REPUBLICA BOLIVARIANA DE VENEZUELA 1538   \n",
       "1  4605-0603           NaN          SOLDADO DE LA FRONTERA AV. 5210   \n",
       "2  4501-4320           NaN                        BAHIA BLANCA 4025   \n",
       "3  4855-7508           NaN                  ARENAL, CONCEPCION 4206   \n",
       "4  4687-1977           NaN                               YRUPE 6714   \n",
       "\n",
       "        long        lat        barrio     comuna  codigo_postal  \\\n",
       "0 -58.388140 -34.614716     MONSERRAT   COMUNA 1         1095.0   \n",
       "1 -58.463552 -34.685002  VILLA LUGANO   COMUNA 8         1439.0   \n",
       "2 -58.510894 -34.599313  VILLA DEVOTO  COMUNA 11         1419.0   \n",
       "3 -58.450363 -34.591353     CHACARITA  COMUNA 15         1427.0   \n",
       "4 -58.496872 -34.667674     MATADEROS   COMUNA 9         1440.0   \n",
       "\n",
       "  codigo_postal_argentino  \n",
       "0                C1095ABF  \n",
       "1                C1439FPH  \n",
       "2                C1419BAI  \n",
       "3                C1427EKR  \n",
       "4                C1440BND  "
      ],
      "text/html": "<div>\n<style scoped>\n    .dataframe tbody tr th:only-of-type {\n        vertical-align: middle;\n    }\n\n    .dataframe tbody tr th {\n        vertical-align: top;\n    }\n\n    .dataframe thead th {\n        text-align: right;\n    }\n</style>\n<table border=\"1\" class=\"dataframe\">\n  <thead>\n    <tr style=\"text-align: right;\">\n      <th></th>\n      <th>biblioteca</th>\n      <th>calle</th>\n      <th>altura</th>\n      <th>calle_2</th>\n      <th>piso</th>\n      <th>telefono</th>\n      <th>observaciones</th>\n      <th>direccion_normalizada</th>\n      <th>long</th>\n      <th>lat</th>\n      <th>barrio</th>\n      <th>comuna</th>\n      <th>codigo_postal</th>\n      <th>codigo_postal_argentino</th>\n    </tr>\n  </thead>\n  <tbody>\n    <tr>\n      <th>0</th>\n      <td>ALFONSINA STORNI</td>\n      <td>VENEZUELA</td>\n      <td>1538</td>\n      <td>NaN</td>\n      <td>1</td>\n      <td>4381-9345</td>\n      <td>NaN</td>\n      <td>REPUBLICA BOLIVARIANA DE VENEZUELA 1538</td>\n      <td>-58.388140</td>\n      <td>-34.614716</td>\n      <td>MONSERRAT</td>\n      <td>COMUNA 1</td>\n      <td>1095.0</td>\n      <td>C1095ABF</td>\n    </tr>\n    <tr>\n      <th>1</th>\n      <td>ALVARO YUNQUE</td>\n      <td>SOLDADO DE LA FRONTERA</td>\n      <td>5210</td>\n      <td>NaN</td>\n      <td>BLOCK 28</td>\n      <td>4605-0603</td>\n      <td>NaN</td>\n      <td>SOLDADO DE LA FRONTERA AV. 5210</td>\n      <td>-58.463552</td>\n      <td>-34.685002</td>\n      <td>VILLA LUGANO</td>\n      <td>COMUNA 8</td>\n      <td>1439.0</td>\n      <td>C1439FPH</td>\n    </tr>\n    <tr>\n      <th>2</th>\n      <td>ANTONIO DEVOTO</td>\n      <td>BAHIA BLANCA</td>\n      <td>4025</td>\n      <td>NaN</td>\n      <td>NaN</td>\n      <td>4501-4320</td>\n      <td>NaN</td>\n      <td>BAHIA BLANCA 4025</td>\n      <td>-58.510894</td>\n      <td>-34.599313</td>\n      <td>VILLA DEVOTO</td>\n      <td>COMUNA 11</td>\n      <td>1419.0</td>\n      <td>C1419BAI</td>\n    </tr>\n    <tr>\n      <th>3</th>\n      <td>BALDOMERO F. MORENO</td>\n      <td>CONCEPCION ARENAL</td>\n      <td>4206</td>\n      <td>NaN</td>\n      <td>NaN</td>\n      <td>4855-7508</td>\n      <td>NaN</td>\n      <td>ARENAL, CONCEPCION 4206</td>\n      <td>-58.450363</td>\n      <td>-34.591353</td>\n      <td>CHACARITA</td>\n      <td>COMUNA 15</td>\n      <td>1427.0</td>\n      <td>C1427EKR</td>\n    </tr>\n    <tr>\n      <th>4</th>\n      <td>BENITO LYNCH</td>\n      <td>PJE. YRUPE</td>\n      <td>6714</td>\n      <td>NaN</td>\n      <td>NaN</td>\n      <td>4687-1977</td>\n      <td>NaN</td>\n      <td>YRUPE 6714</td>\n      <td>-58.496872</td>\n      <td>-34.667674</td>\n      <td>MATADEROS</td>\n      <td>COMUNA 9</td>\n      <td>1440.0</td>\n      <td>C1440BND</td>\n    </tr>\n  </tbody>\n</table>\n</div>"
     },
     "metadata": {},
     "execution_count": 1
    }
   ],
   "source": [
    "import pandas as pd\n",
    "bibliotecas = pd.read_csv(\"http://cdn.buenosaires.gob.ar/datosabiertos/datasets/bibliotecas/bibliotecas.csv\")\n",
    "bibliotecas.head()"
   ]
  },
  {
   "cell_type": "code",
   "execution_count": 2,
   "metadata": {},
   "outputs": [
    {
     "output_type": "execute_result",
     "data": {
      "text/plain": [
       "True"
      ]
     },
     "metadata": {},
     "execution_count": 2
    }
   ],
   "source": [
    "'calle' in bibliotecas.columns"
   ]
  },
  {
   "cell_type": "code",
   "execution_count": 3,
   "metadata": {},
   "outputs": [
    {
     "output_type": "execute_result",
     "data": {
      "text/plain": [
       "False"
      ]
     },
     "metadata": {},
     "execution_count": 3
    }
   ],
   "source": [
    "'ciudad' in bibliotecas.columns"
   ]
  }
 ]
}